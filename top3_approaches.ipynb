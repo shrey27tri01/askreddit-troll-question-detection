{
 "cells": [
  {
   "cell_type": "code",
   "execution_count": null,
   "metadata": {
    "execution": {
     "iopub.execute_input": "2021-12-25T16:43:22.324829Z",
     "iopub.status.busy": "2021-12-25T16:43:22.323829Z",
     "iopub.status.idle": "2021-12-25T16:43:32.962073Z",
     "shell.execute_reply": "2021-12-25T16:43:32.961033Z",
     "shell.execute_reply.started": "2021-12-25T16:43:22.324679Z"
    }
   },
   "outputs": [],
   "source": [
    "pip install nltk"
   ]
  },
  {
   "cell_type": "code",
   "execution_count": 3,
   "metadata": {
    "execution": {
     "iopub.execute_input": "2021-12-25T16:43:32.987153Z",
     "iopub.status.busy": "2021-12-25T16:43:32.986931Z",
     "iopub.status.idle": "2021-12-25T16:43:33.012383Z",
     "shell.execute_reply": "2021-12-25T16:43:33.011663Z",
     "shell.execute_reply.started": "2021-12-25T16:43:32.987126Z"
    }
   },
   "outputs": [],
   "source": [
    "import numpy as np\n",
    "import pandas as pd\n",
    "import langid\n",
    "import gc"
   ]
  },
  {
   "cell_type": "code",
   "execution_count": 4,
   "metadata": {
    "execution": {
     "iopub.execute_input": "2021-12-25T16:43:33.01563Z",
     "iopub.status.busy": "2021-12-25T16:43:33.014477Z",
     "iopub.status.idle": "2021-12-25T16:43:36.011923Z",
     "shell.execute_reply": "2021-12-25T16:43:36.011263Z",
     "shell.execute_reply.started": "2021-12-25T16:43:33.015527Z"
    }
   },
   "outputs": [],
   "source": [
    "train_df = pd.read_csv(\"./AskReddit Dataset/train.csv\")"
   ]
  },
  {
   "cell_type": "code",
   "execution_count": 5,
   "metadata": {
    "execution": {
     "iopub.execute_input": "2021-12-25T16:43:36.013792Z",
     "iopub.status.busy": "2021-12-25T16:43:36.013326Z",
     "iopub.status.idle": "2021-12-25T16:43:36.034138Z",
     "shell.execute_reply": "2021-12-25T16:43:36.033055Z",
     "shell.execute_reply.started": "2021-12-25T16:43:36.013759Z"
    }
   },
   "outputs": [
    {
     "data": {
      "text/html": [
       "<div>\n",
       "<style scoped>\n",
       "    .dataframe tbody tr th:only-of-type {\n",
       "        vertical-align: middle;\n",
       "    }\n",
       "\n",
       "    .dataframe tbody tr th {\n",
       "        vertical-align: top;\n",
       "    }\n",
       "\n",
       "    .dataframe thead th {\n",
       "        text-align: right;\n",
       "    }\n",
       "</style>\n",
       "<table border=\"1\" class=\"dataframe\">\n",
       "  <thead>\n",
       "    <tr style=\"text-align: right;\">\n",
       "      <th></th>\n",
       "      <th>qid</th>\n",
       "      <th>question_text</th>\n",
       "      <th>target</th>\n",
       "    </tr>\n",
       "  </thead>\n",
       "  <tbody>\n",
       "    <tr>\n",
       "      <th>0</th>\n",
       "      <td>a3dee568776c08512c89</td>\n",
       "      <td>What is the role of Lua in Civ4?</td>\n",
       "      <td>0</td>\n",
       "    </tr>\n",
       "    <tr>\n",
       "      <th>1</th>\n",
       "      <td>bdb84f519e7b46e7b7bb</td>\n",
       "      <td>What are important chapters in Kannada for 10 ...</td>\n",
       "      <td>0</td>\n",
       "    </tr>\n",
       "    <tr>\n",
       "      <th>2</th>\n",
       "      <td>29c88db470e2eb5c97ad</td>\n",
       "      <td>Do musicians get royalties from YouTube?</td>\n",
       "      <td>0</td>\n",
       "    </tr>\n",
       "    <tr>\n",
       "      <th>3</th>\n",
       "      <td>3387d99bf2c3227ae8f1</td>\n",
       "      <td>What is the difference between Scaling Social ...</td>\n",
       "      <td>0</td>\n",
       "    </tr>\n",
       "    <tr>\n",
       "      <th>4</th>\n",
       "      <td>e79fa5038f765d0f2e7e</td>\n",
       "      <td>Why do elevators go super slow right before th...</td>\n",
       "      <td>0</td>\n",
       "    </tr>\n",
       "  </tbody>\n",
       "</table>\n",
       "</div>"
      ],
      "text/plain": [
       "                    qid                                      question_text  \\\n",
       "0  a3dee568776c08512c89                   What is the role of Lua in Civ4?   \n",
       "1  bdb84f519e7b46e7b7bb  What are important chapters in Kannada for 10 ...   \n",
       "2  29c88db470e2eb5c97ad           Do musicians get royalties from YouTube?   \n",
       "3  3387d99bf2c3227ae8f1  What is the difference between Scaling Social ...   \n",
       "4  e79fa5038f765d0f2e7e  Why do elevators go super slow right before th...   \n",
       "\n",
       "   target  \n",
       "0       0  \n",
       "1       0  \n",
       "2       0  \n",
       "3       0  \n",
       "4       0  "
      ]
     },
     "execution_count": 5,
     "metadata": {},
     "output_type": "execute_result"
    }
   ],
   "source": [
    "train_df.head()"
   ]
  },
  {
   "cell_type": "code",
   "execution_count": 6,
   "metadata": {
    "execution": {
     "iopub.execute_input": "2021-12-25T16:43:36.036394Z",
     "iopub.status.busy": "2021-12-25T16:43:36.035458Z",
     "iopub.status.idle": "2021-12-25T16:43:38.485734Z",
     "shell.execute_reply": "2021-12-25T16:43:38.485094Z",
     "shell.execute_reply.started": "2021-12-25T16:43:36.036342Z"
    }
   },
   "outputs": [],
   "source": [
    "test_df = pd.read_csv(\"./AskReddit Dataset/test.csv\")"
   ]
  },
  {
   "cell_type": "code",
   "execution_count": 7,
   "metadata": {
    "execution": {
     "iopub.execute_input": "2021-12-25T16:43:38.488267Z",
     "iopub.status.busy": "2021-12-25T16:43:38.487184Z",
     "iopub.status.idle": "2021-12-25T16:43:38.500002Z",
     "shell.execute_reply": "2021-12-25T16:43:38.498998Z",
     "shell.execute_reply.started": "2021-12-25T16:43:38.488212Z"
    }
   },
   "outputs": [
    {
     "data": {
      "text/html": [
       "<div>\n",
       "<style scoped>\n",
       "    .dataframe tbody tr th:only-of-type {\n",
       "        vertical-align: middle;\n",
       "    }\n",
       "\n",
       "    .dataframe tbody tr th {\n",
       "        vertical-align: top;\n",
       "    }\n",
       "\n",
       "    .dataframe thead th {\n",
       "        text-align: right;\n",
       "    }\n",
       "</style>\n",
       "<table border=\"1\" class=\"dataframe\">\n",
       "  <thead>\n",
       "    <tr style=\"text-align: right;\">\n",
       "      <th></th>\n",
       "      <th>qid</th>\n",
       "      <th>question_text</th>\n",
       "    </tr>\n",
       "  </thead>\n",
       "  <tbody>\n",
       "    <tr>\n",
       "      <th>0</th>\n",
       "      <td>0a824224322f0a36025f</td>\n",
       "      <td>Why is my fish tank so cloudy?</td>\n",
       "    </tr>\n",
       "    <tr>\n",
       "      <th>1</th>\n",
       "      <td>28af14c4e4777ce1273e</td>\n",
       "      <td>Are AAP supporters/leaders hypocrites?</td>\n",
       "    </tr>\n",
       "    <tr>\n",
       "      <th>2</th>\n",
       "      <td>6892a52c51103dd95044</td>\n",
       "      <td>Can you still get a ticket if you shut off you...</td>\n",
       "    </tr>\n",
       "    <tr>\n",
       "      <th>3</th>\n",
       "      <td>badd9e8886d73fc1fe4e</td>\n",
       "      <td>Why should any liberal or caring person want t...</td>\n",
       "    </tr>\n",
       "    <tr>\n",
       "      <th>4</th>\n",
       "      <td>4ef178f82a465e4804ae</td>\n",
       "      <td>How can I know who got into my PC using anydesk?</td>\n",
       "    </tr>\n",
       "  </tbody>\n",
       "</table>\n",
       "</div>"
      ],
      "text/plain": [
       "                    qid                                      question_text\n",
       "0  0a824224322f0a36025f                     Why is my fish tank so cloudy?\n",
       "1  28af14c4e4777ce1273e             Are AAP supporters/leaders hypocrites?\n",
       "2  6892a52c51103dd95044  Can you still get a ticket if you shut off you...\n",
       "3  badd9e8886d73fc1fe4e  Why should any liberal or caring person want t...\n",
       "4  4ef178f82a465e4804ae   How can I know who got into my PC using anydesk?"
      ]
     },
     "execution_count": 7,
     "metadata": {},
     "output_type": "execute_result"
    }
   ],
   "source": [
    "test_df.head()"
   ]
  },
  {
   "cell_type": "code",
   "execution_count": 7,
   "metadata": {
    "execution": {
     "iopub.execute_input": "2021-12-25T16:43:38.502369Z",
     "iopub.status.busy": "2021-12-25T16:43:38.501736Z",
     "iopub.status.idle": "2021-12-25T16:43:38.526624Z",
     "shell.execute_reply": "2021-12-25T16:43:38.525941Z",
     "shell.execute_reply.started": "2021-12-25T16:43:38.502327Z"
    }
   },
   "outputs": [
    {
     "data": {
      "text/plain": [
       "0    612656\n",
       "1     40405\n",
       "Name: target, dtype: int64"
      ]
     },
     "execution_count": 7,
     "metadata": {},
     "output_type": "execute_result"
    }
   ],
   "source": [
    "train_df['target'].value_counts()"
   ]
  },
  {
   "cell_type": "markdown",
   "metadata": {},
   "source": [
    "### Imports needed"
   ]
  },
  {
   "cell_type": "code",
   "execution_count": null,
   "metadata": {
    "execution": {
     "iopub.execute_input": "2021-12-25T16:43:38.528516Z",
     "iopub.status.busy": "2021-12-25T16:43:38.527897Z",
     "iopub.status.idle": "2021-12-25T16:43:40.427329Z",
     "shell.execute_reply": "2021-12-25T16:43:40.426187Z",
     "shell.execute_reply.started": "2021-12-25T16:43:38.528479Z"
    }
   },
   "outputs": [],
   "source": [
    "import re\n",
    "import nltk\n",
    "from sklearn.feature_extraction.text import CountVectorizer \n",
    "from sklearn.feature_extraction.text import TfidfVectorizer\n",
    "from nltk.stem.porter import PorterStemmer\n"
   ]
  },
  {
   "cell_type": "markdown",
   "metadata": {},
   "source": [
    "## Approach 1 - Logistic Regression\n"
   ]
  },
  {
   "cell_type": "markdown",
   "metadata": {},
   "source": [
    "### Preprocessing"
   ]
  },
  {
   "cell_type": "code",
   "execution_count": null,
   "metadata": {
    "execution": {
     "iopub.execute_input": "2021-12-25T16:43:40.43247Z",
     "iopub.status.busy": "2021-12-25T16:43:40.432171Z",
     "iopub.status.idle": "2021-12-25T16:43:40.437812Z",
     "shell.execute_reply": "2021-12-25T16:43:40.436546Z",
     "shell.execute_reply.started": "2021-12-25T16:43:40.432441Z"
    }
   },
   "outputs": [],
   "source": [
    "vectorizer = CountVectorizer(max_features = 150000)"
   ]
  },
  {
   "cell_type": "code",
   "execution_count": null,
   "metadata": {
    "execution": {
     "iopub.execute_input": "2021-12-25T16:43:40.440037Z",
     "iopub.status.busy": "2021-12-25T16:43:40.439707Z",
     "iopub.status.idle": "2021-12-25T16:44:07.797764Z",
     "shell.execute_reply": "2021-12-25T16:44:07.797013Z",
     "shell.execute_reply.started": "2021-12-25T16:43:40.439996Z"
    }
   },
   "outputs": [],
   "source": [
    "features = vectorizer.fit_transform(train_df['question_text'].tolist() + test_df['question_text'].tolist())"
   ]
  },
  {
   "cell_type": "code",
   "execution_count": null,
   "metadata": {
    "execution": {
     "iopub.execute_input": "2021-12-25T16:44:07.799748Z",
     "iopub.status.busy": "2021-12-25T16:44:07.799165Z",
     "iopub.status.idle": "2021-12-25T16:44:08.160789Z",
     "shell.execute_reply": "2021-12-25T16:44:08.159659Z",
     "shell.execute_reply.started": "2021-12-25T16:44:07.799703Z"
    }
   },
   "outputs": [],
   "source": [
    "from sklearn.model_selection import train_test_split\n",
    "\n",
    "X_train, X_test, y_train, y_test  = train_test_split(\n",
    "       features[0:len(train_df)], \n",
    "       train_df['target'],\n",
    "       train_size=0.85, \n",
    "       random_state=1234)\n"
   ]
  },
  {
   "cell_type": "markdown",
   "metadata": {},
   "source": [
    "### Model"
   ]
  },
  {
   "cell_type": "code",
   "execution_count": null,
   "metadata": {
    "execution": {
     "iopub.execute_input": "2021-12-25T16:44:08.163406Z",
     "iopub.status.busy": "2021-12-25T16:44:08.162691Z",
     "iopub.status.idle": "2021-12-25T16:44:08.168807Z",
     "shell.execute_reply": "2021-12-25T16:44:08.167634Z",
     "shell.execute_reply.started": "2021-12-25T16:44:08.163353Z"
    }
   },
   "outputs": [],
   "source": [
    "from sklearn.linear_model import LogisticRegression\n",
    "log_model = LogisticRegression(solver='liblinear')\n"
   ]
  },
  {
   "cell_type": "code",
   "execution_count": null,
   "metadata": {
    "execution": {
     "iopub.execute_input": "2021-12-25T16:44:08.171093Z",
     "iopub.status.busy": "2021-12-25T16:44:08.170655Z",
     "iopub.status.idle": "2021-12-25T16:44:51.295635Z",
     "shell.execute_reply": "2021-12-25T16:44:51.294781Z",
     "shell.execute_reply.started": "2021-12-25T16:44:08.171035Z"
    }
   },
   "outputs": [],
   "source": [
    "log_model = log_model.fit(X=X_train, y=y_train)\n"
   ]
  },
  {
   "cell_type": "code",
   "execution_count": null,
   "metadata": {
    "execution": {
     "iopub.execute_input": "2021-12-25T16:44:51.297395Z",
     "iopub.status.busy": "2021-12-25T16:44:51.297075Z",
     "iopub.status.idle": "2021-12-25T16:44:51.311416Z",
     "shell.execute_reply": "2021-12-25T16:44:51.310637Z",
     "shell.execute_reply.started": "2021-12-25T16:44:51.297354Z"
    }
   },
   "outputs": [],
   "source": [
    "y_pred = log_model.predict(X_test)\n",
    "y_pred"
   ]
  },
  {
   "cell_type": "code",
   "execution_count": null,
   "metadata": {
    "execution": {
     "iopub.execute_input": "2021-12-25T16:44:51.313662Z",
     "iopub.status.busy": "2021-12-25T16:44:51.313345Z",
     "iopub.status.idle": "2021-12-25T16:44:51.457493Z",
     "shell.execute_reply": "2021-12-25T16:44:51.456093Z",
     "shell.execute_reply.started": "2021-12-25T16:44:51.313623Z"
    }
   },
   "outputs": [],
   "source": [
    "from sklearn.metrics import classification_report\n",
    "print(classification_report(y_test, y_pred))"
   ]
  },
  {
   "cell_type": "code",
   "execution_count": null,
   "metadata": {
    "execution": {
     "iopub.execute_input": "2021-12-25T16:44:51.459189Z",
     "iopub.status.busy": "2021-12-25T16:44:51.458908Z",
     "iopub.status.idle": "2021-12-25T16:45:57.075541Z",
     "shell.execute_reply": "2021-12-25T16:45:57.074342Z",
     "shell.execute_reply.started": "2021-12-25T16:44:51.459155Z"
    }
   },
   "outputs": [],
   "source": [
    "log_model = LogisticRegression(solver='liblinear')\n",
    "log_model = log_model.fit(X=features[0:len(train_df)], y=train_df['target'])\n",
    "test_pred = log_model.predict(features[len(train_df):])"
   ]
  },
  {
   "cell_type": "code",
   "execution_count": null,
   "metadata": {
    "execution": {
     "iopub.execute_input": "2021-12-25T16:45:57.077186Z",
     "iopub.status.busy": "2021-12-25T16:45:57.076947Z",
     "iopub.status.idle": "2021-12-25T16:45:58.849384Z",
     "shell.execute_reply": "2021-12-25T16:45:58.848038Z",
     "shell.execute_reply.started": "2021-12-25T16:45:57.077147Z"
    }
   },
   "outputs": [],
   "source": [
    "output_qid = test_df[\"qid\"].to_numpy()\n",
    "output_pred_target= test_pred\n",
    "\n",
    "list_of_tuples = list(zip(output_qid, output_pred_target))\n",
    "\n",
    "data = {'qid': output_qid, 'target': output_pred_target}\n",
    "\n",
    "df = pd.DataFrame(data)\n",
    "df.to_csv('output_targets_lr1.csv', index=False)"
   ]
  },
  {
   "cell_type": "code",
   "execution_count": null,
   "metadata": {
    "execution": {
     "iopub.execute_input": "2021-12-25T16:45:58.851897Z",
     "iopub.status.busy": "2021-12-25T16:45:58.850953Z",
     "iopub.status.idle": "2021-12-25T16:45:58.863885Z",
     "shell.execute_reply": "2021-12-25T16:45:58.863017Z",
     "shell.execute_reply.started": "2021-12-25T16:45:58.851847Z"
    }
   },
   "outputs": [],
   "source": [
    "df.head()\n"
   ]
  },
  {
   "cell_type": "markdown",
   "metadata": {},
   "source": [
    "## Approach 2 - Logistic Regression"
   ]
  },
  {
   "cell_type": "markdown",
   "metadata": {},
   "source": [
    "### Preprocessing\n"
   ]
  },
  {
   "cell_type": "code",
   "execution_count": null,
   "metadata": {
    "execution": {
     "iopub.execute_input": "2021-12-25T16:45:58.866335Z",
     "iopub.status.busy": "2021-12-25T16:45:58.865558Z",
     "iopub.status.idle": "2021-12-25T16:45:58.907155Z",
     "shell.execute_reply": "2021-12-25T16:45:58.906107Z",
     "shell.execute_reply.started": "2021-12-25T16:45:58.866267Z"
    }
   },
   "outputs": [],
   "source": [
    "vectorizer = CountVectorizer(max_features = 12000)"
   ]
  },
  {
   "cell_type": "code",
   "execution_count": null,
   "metadata": {
    "execution": {
     "iopub.execute_input": "2021-12-25T16:45:58.909361Z",
     "iopub.status.busy": "2021-12-25T16:45:58.909105Z",
     "iopub.status.idle": "2021-12-25T16:46:26.585093Z",
     "shell.execute_reply": "2021-12-25T16:46:26.584119Z",
     "shell.execute_reply.started": "2021-12-25T16:45:58.909334Z"
    }
   },
   "outputs": [],
   "source": [
    "features = vectorizer.fit_transform(train_df['question_text'].tolist() + test_df['question_text'].tolist())"
   ]
  },
  {
   "cell_type": "code",
   "execution_count": null,
   "metadata": {
    "execution": {
     "iopub.execute_input": "2021-12-25T16:46:26.586389Z",
     "iopub.status.busy": "2021-12-25T16:46:26.586171Z",
     "iopub.status.idle": "2021-12-25T16:46:26.819126Z",
     "shell.execute_reply": "2021-12-25T16:46:26.818211Z",
     "shell.execute_reply.started": "2021-12-25T16:46:26.586363Z"
    }
   },
   "outputs": [],
   "source": [
    "from sklearn.model_selection import train_test_split\n",
    "\n",
    "X_train, X_test, y_train, y_test  = train_test_split(\n",
    "       features[0:len(train_df)], \n",
    "       train_df['target'],\n",
    "       train_size=0.85, \n",
    "       random_state=1234)\n"
   ]
  },
  {
   "cell_type": "code",
   "execution_count": null,
   "metadata": {
    "execution": {
     "iopub.execute_input": "2021-12-25T16:46:26.821779Z",
     "iopub.status.busy": "2021-12-25T16:46:26.821372Z",
     "iopub.status.idle": "2021-12-25T16:46:27.048779Z",
     "shell.execute_reply": "2021-12-25T16:46:27.047668Z",
     "shell.execute_reply.started": "2021-12-25T16:46:26.821731Z"
    }
   },
   "outputs": [],
   "source": [
    "import gc\n",
    "gc.collect()"
   ]
  },
  {
   "cell_type": "markdown",
   "metadata": {},
   "source": [
    "### Model"
   ]
  },
  {
   "cell_type": "code",
   "execution_count": null,
   "metadata": {
    "execution": {
     "iopub.execute_input": "2021-12-25T16:46:27.050835Z",
     "iopub.status.busy": "2021-12-25T16:46:27.050479Z",
     "iopub.status.idle": "2021-12-25T16:46:27.060602Z",
     "shell.execute_reply": "2021-12-25T16:46:27.059673Z",
     "shell.execute_reply.started": "2021-12-25T16:46:27.05079Z"
    }
   },
   "outputs": [],
   "source": [
    "from sklearn.linear_model import LogisticRegression\n",
    "log_model = LogisticRegression(solver='liblinear')\n"
   ]
  },
  {
   "cell_type": "code",
   "execution_count": null,
   "metadata": {
    "execution": {
     "iopub.execute_input": "2021-12-25T16:46:27.062676Z",
     "iopub.status.busy": "2021-12-25T16:46:27.062343Z",
     "iopub.status.idle": "2021-12-25T16:46:54.902261Z",
     "shell.execute_reply": "2021-12-25T16:46:54.901326Z",
     "shell.execute_reply.started": "2021-12-25T16:46:27.06263Z"
    }
   },
   "outputs": [],
   "source": [
    "log_model = log_model.fit(X=X_train, y=y_train)\n"
   ]
  },
  {
   "cell_type": "code",
   "execution_count": null,
   "metadata": {
    "execution": {
     "iopub.execute_input": "2021-12-25T16:46:54.903992Z",
     "iopub.status.busy": "2021-12-25T16:46:54.903675Z",
     "iopub.status.idle": "2021-12-25T16:46:54.917869Z",
     "shell.execute_reply": "2021-12-25T16:46:54.917117Z",
     "shell.execute_reply.started": "2021-12-25T16:46:54.90395Z"
    }
   },
   "outputs": [],
   "source": [
    "y_pred = log_model.predict(X_test)\n",
    "y_pred"
   ]
  },
  {
   "cell_type": "code",
   "execution_count": null,
   "metadata": {
    "execution": {
     "iopub.execute_input": "2021-12-25T16:46:54.920114Z",
     "iopub.status.busy": "2021-12-25T16:46:54.919201Z",
     "iopub.status.idle": "2021-12-25T16:46:55.06206Z",
     "shell.execute_reply": "2021-12-25T16:46:55.061159Z",
     "shell.execute_reply.started": "2021-12-25T16:46:54.92007Z"
    }
   },
   "outputs": [],
   "source": [
    "from sklearn.metrics import classification_report\n",
    "print(classification_report(y_test, y_pred))"
   ]
  },
  {
   "cell_type": "code",
   "execution_count": null,
   "metadata": {
    "execution": {
     "iopub.execute_input": "2021-12-25T16:46:55.066579Z",
     "iopub.status.busy": "2021-12-25T16:46:55.066295Z",
     "iopub.status.idle": "2021-12-25T16:47:33.855195Z",
     "shell.execute_reply": "2021-12-25T16:47:33.85391Z",
     "shell.execute_reply.started": "2021-12-25T16:46:55.066546Z"
    }
   },
   "outputs": [],
   "source": [
    "log_model = LogisticRegression(solver='liblinear')\n",
    "log_model = log_model.fit(X=features[0:len(train_df)], y=train_df['target'])\n",
    "test_pred = log_model.predict(features[len(train_df):])\n"
   ]
  },
  {
   "cell_type": "code",
   "execution_count": null,
   "metadata": {
    "execution": {
     "iopub.execute_input": "2021-12-25T16:47:33.864636Z",
     "iopub.status.busy": "2021-12-25T16:47:33.864321Z",
     "iopub.status.idle": "2021-12-25T16:47:35.778588Z",
     "shell.execute_reply": "2021-12-25T16:47:35.777423Z",
     "shell.execute_reply.started": "2021-12-25T16:47:33.864577Z"
    }
   },
   "outputs": [],
   "source": [
    "output_qid = test_df[\"qid\"].to_numpy()\n",
    "output_pred_target= test_pred\n",
    "\n",
    "list_of_tuples = list(zip(output_qid, output_pred_target))\n",
    "\n",
    "data = {'qid': output_qid, 'target': output_pred_target}\n",
    "\n",
    "df = pd.DataFrame(data)\n",
    "df.to_csv('output_targets_lr2.csv', index=False)"
   ]
  },
  {
   "cell_type": "code",
   "execution_count": null,
   "metadata": {
    "execution": {
     "iopub.execute_input": "2021-12-25T16:47:35.780168Z",
     "iopub.status.busy": "2021-12-25T16:47:35.779928Z",
     "iopub.status.idle": "2021-12-25T16:47:35.794256Z",
     "shell.execute_reply": "2021-12-25T16:47:35.793136Z",
     "shell.execute_reply.started": "2021-12-25T16:47:35.780139Z"
    }
   },
   "outputs": [],
   "source": [
    "df.head()\n"
   ]
  },
  {
   "cell_type": "markdown",
   "metadata": {},
   "source": [
    "## Approach 3 - Multi Layer Perceptron"
   ]
  },
  {
   "cell_type": "markdown",
   "metadata": {},
   "source": [
    "### Preprocessing"
   ]
  },
  {
   "cell_type": "code",
   "execution_count": null,
   "metadata": {
    "execution": {
     "iopub.execute_input": "2021-12-25T16:47:35.79676Z",
     "iopub.status.busy": "2021-12-25T16:47:35.796409Z",
     "iopub.status.idle": "2021-12-25T16:47:35.80337Z",
     "shell.execute_reply": "2021-12-25T16:47:35.802515Z",
     "shell.execute_reply.started": "2021-12-25T16:47:35.796715Z"
    }
   },
   "outputs": [],
   "source": [
    "stemmer = PorterStemmer()\n",
    "def stem_tokens(tokens, stemmer):\n",
    "    stemmed = [stemmer.stem(item) for item in tokens]\n",
    "    return(stemmed)\n"
   ]
  },
  {
   "cell_type": "code",
   "execution_count": null,
   "metadata": {
    "execution": {
     "iopub.execute_input": "2021-12-25T16:47:35.806307Z",
     "iopub.status.busy": "2021-12-25T16:47:35.805435Z",
     "iopub.status.idle": "2021-12-25T16:47:35.819282Z",
     "shell.execute_reply": "2021-12-25T16:47:35.818361Z",
     "shell.execute_reply.started": "2021-12-25T16:47:35.806257Z"
    }
   },
   "outputs": [],
   "source": [
    "def tokenize(text):\n",
    "    text = re.sub(\"[^a-zA-Z]\", \" \", text)\n",
    "    tokens = nltk.word_tokenize(text)\n",
    "    stems = stem_tokens(tokens, stemmer)\n",
    "    return(stems)\n"
   ]
  },
  {
   "cell_type": "code",
   "execution_count": null,
   "metadata": {
    "execution": {
     "iopub.execute_input": "2021-12-25T16:47:35.821881Z",
     "iopub.status.busy": "2021-12-25T16:47:35.82113Z",
     "iopub.status.idle": "2021-12-25T16:47:35.863667Z",
     "shell.execute_reply": "2021-12-25T16:47:35.862908Z",
     "shell.execute_reply.started": "2021-12-25T16:47:35.821837Z"
    }
   },
   "outputs": [],
   "source": [
    "vectorizer = CountVectorizer(\n",
    "    analyzer = 'word',\n",
    "    tokenizer = tokenize,\n",
    "    lowercase = True,\n",
    "    stop_words = 'english',\n",
    "    max_features = 4000\n",
    ")"
   ]
  },
  {
   "cell_type": "code",
   "execution_count": null,
   "metadata": {
    "execution": {
     "iopub.execute_input": "2021-12-25T16:47:35.866502Z",
     "iopub.status.busy": "2021-12-25T16:47:35.865667Z",
     "iopub.status.idle": "2021-12-25T16:59:06.599548Z",
     "shell.execute_reply": "2021-12-25T16:59:06.598237Z",
     "shell.execute_reply.started": "2021-12-25T16:47:35.866453Z"
    }
   },
   "outputs": [],
   "source": [
    "features = vectorizer.fit_transform(train_df['question_text'].tolist() + test_df['question_text'].tolist())"
   ]
  },
  {
   "cell_type": "code",
   "execution_count": null,
   "metadata": {
    "execution": {
     "iopub.execute_input": "2021-12-25T16:59:06.601568Z",
     "iopub.status.busy": "2021-12-25T16:59:06.601283Z",
     "iopub.status.idle": "2021-12-25T16:59:06.787374Z",
     "shell.execute_reply": "2021-12-25T16:59:06.786451Z",
     "shell.execute_reply.started": "2021-12-25T16:59:06.601526Z"
    }
   },
   "outputs": [],
   "source": [
    "from sklearn.model_selection import train_test_split\n",
    "\n",
    "X_train, X_test, y_train, y_test  = train_test_split(\n",
    "       features[0:len(train_df)], \n",
    "       train_df['target'],\n",
    "       train_size=0.85, \n",
    "       random_state=1234)\n"
   ]
  },
  {
   "cell_type": "code",
   "execution_count": null,
   "metadata": {
    "execution": {
     "iopub.execute_input": "2021-12-25T16:59:06.789079Z",
     "iopub.status.busy": "2021-12-25T16:59:06.78882Z",
     "iopub.status.idle": "2021-12-25T16:59:07.056838Z",
     "shell.execute_reply": "2021-12-25T16:59:07.055736Z",
     "shell.execute_reply.started": "2021-12-25T16:59:06.789047Z"
    }
   },
   "outputs": [],
   "source": [
    "import gc\n",
    "gc.collect()"
   ]
  },
  {
   "cell_type": "markdown",
   "metadata": {},
   "source": [
    "### Model"
   ]
  },
  {
   "cell_type": "code",
   "execution_count": null,
   "metadata": {
    "execution": {
     "iopub.execute_input": "2021-12-25T16:59:07.058819Z",
     "iopub.status.busy": "2021-12-25T16:59:07.05853Z",
     "iopub.status.idle": "2021-12-25T16:59:07.083809Z",
     "shell.execute_reply": "2021-12-25T16:59:07.083072Z",
     "shell.execute_reply.started": "2021-12-25T16:59:07.058786Z"
    }
   },
   "outputs": [],
   "source": [
    "from sklearn.neural_network import MLPClassifier\n"
   ]
  },
  {
   "cell_type": "code",
   "execution_count": null,
   "metadata": {
    "execution": {
     "iopub.execute_input": "2021-12-25T16:59:07.086718Z",
     "iopub.status.busy": "2021-12-25T16:59:07.085512Z",
     "iopub.status.idle": "2021-12-25T17:05:55.165914Z",
     "shell.execute_reply": "2021-12-25T17:05:55.164778Z",
     "shell.execute_reply.started": "2021-12-25T16:59:07.086668Z"
    }
   },
   "outputs": [],
   "source": [
    "clf = MLPClassifier(solver='adam', alpha=1e-5, hidden_layer_sizes=(5, 2), random_state=1)\n",
    "clf = clf.fit(X=X_train, y=y_train)"
   ]
  },
  {
   "cell_type": "code",
   "execution_count": null,
   "metadata": {
    "execution": {
     "iopub.execute_input": "2021-12-25T17:05:55.169892Z",
     "iopub.status.busy": "2021-12-25T17:05:55.168839Z",
     "iopub.status.idle": "2021-12-25T17:05:55.215899Z",
     "shell.execute_reply": "2021-12-25T17:05:55.21471Z",
     "shell.execute_reply.started": "2021-12-25T17:05:55.169821Z"
    }
   },
   "outputs": [],
   "source": [
    "y_pred = clf.predict(X_test)\n",
    "y_pred"
   ]
  },
  {
   "cell_type": "code",
   "execution_count": null,
   "metadata": {
    "execution": {
     "iopub.execute_input": "2021-12-25T17:05:55.219477Z",
     "iopub.status.busy": "2021-12-25T17:05:55.218447Z",
     "iopub.status.idle": "2021-12-25T17:05:55.412879Z",
     "shell.execute_reply": "2021-12-25T17:05:55.411722Z",
     "shell.execute_reply.started": "2021-12-25T17:05:55.219416Z"
    }
   },
   "outputs": [],
   "source": [
    "from sklearn.metrics import classification_report\n",
    "print(classification_report(y_test, y_pred))"
   ]
  },
  {
   "cell_type": "code",
   "execution_count": null,
   "metadata": {
    "execution": {
     "iopub.execute_input": "2021-12-25T17:05:55.414748Z",
     "iopub.status.busy": "2021-12-25T17:05:55.414483Z",
     "iopub.status.idle": "2021-12-25T17:16:19.471166Z",
     "shell.execute_reply": "2021-12-25T17:16:19.46986Z",
     "shell.execute_reply.started": "2021-12-25T17:05:55.414718Z"
    }
   },
   "outputs": [],
   "source": [
    "clf = MLPClassifier(solver='adam', alpha=1e-5, hidden_layer_sizes=(5, 2), random_state=1)\n",
    "clf = clf.fit(X=features[0:len(train_df)], y=train_df['target'])\n",
    "test_pred = clf.predict(features[len(train_df):])"
   ]
  },
  {
   "cell_type": "code",
   "execution_count": null,
   "metadata": {
    "execution": {
     "iopub.execute_input": "2021-12-25T17:16:19.473662Z",
     "iopub.status.busy": "2021-12-25T17:16:19.473302Z",
     "iopub.status.idle": "2021-12-25T17:16:21.416738Z",
     "shell.execute_reply": "2021-12-25T17:16:21.415702Z",
     "shell.execute_reply.started": "2021-12-25T17:16:19.473615Z"
    }
   },
   "outputs": [],
   "source": [
    "output_qid = test_df[\"qid\"].to_numpy()\n",
    "output_pred_target= test_pred\n",
    "\n",
    "list_of_tuples = list(zip(output_qid, output_pred_target))\n",
    "\n",
    "data = {'qid': output_qid, 'target': output_pred_target}\n",
    "\n",
    "df = pd.DataFrame(data)\n",
    "df.to_csv('output_targets_mlpc.csv', index=False)"
   ]
  },
  {
   "cell_type": "code",
   "execution_count": null,
   "metadata": {
    "execution": {
     "iopub.execute_input": "2021-12-25T17:16:21.418874Z",
     "iopub.status.busy": "2021-12-25T17:16:21.418107Z",
     "iopub.status.idle": "2021-12-25T17:16:21.431425Z",
     "shell.execute_reply": "2021-12-25T17:16:21.429524Z",
     "shell.execute_reply.started": "2021-12-25T17:16:21.418826Z"
    }
   },
   "outputs": [],
   "source": [
    "df.head()"
   ]
  }
 ],
 "metadata": {
  "kernelspec": {
   "display_name": "Python 3 (ipykernel)",
   "language": "python",
   "name": "python3"
  },
  "language_info": {
   "codemirror_mode": {
    "name": "ipython",
    "version": 3
   },
   "file_extension": ".py",
   "mimetype": "text/x-python",
   "name": "python",
   "nbconvert_exporter": "python",
   "pygments_lexer": "ipython3",
   "version": "3.9.1"
  }
 },
 "nbformat": 4,
 "nbformat_minor": 4
}
