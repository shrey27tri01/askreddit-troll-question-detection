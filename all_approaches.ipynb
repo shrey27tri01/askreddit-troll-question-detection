{
 "cells": [
  {
   "cell_type": "code",
   "execution_count": 1,
   "metadata": {
    "execution": {
     "iopub.execute_input": "2021-12-25T19:55:25.162942Z",
     "iopub.status.busy": "2021-12-25T19:55:25.162441Z",
     "iopub.status.idle": "2021-12-25T19:55:25.594130Z",
     "shell.execute_reply": "2021-12-25T19:55:25.592963Z",
     "shell.execute_reply.started": "2021-12-25T19:55:25.162846Z"
    }
   },
   "outputs": [],
   "source": [
    "import numpy as np\n",
    "import pandas as pd\n",
    "import re\n",
    "from sklearn.metrics import f1_score\n",
    "from sklearn.model_selection import GridSearchCV\n",
    "from sklearn.metrics import classification_report\n",
    "import matplotlib.pyplot as plt"
   ]
  },
  {
   "cell_type": "markdown",
   "metadata": {},
   "source": [
    "# Loading the data"
   ]
  },
  {
   "cell_type": "code",
   "execution_count": 2,
   "metadata": {
    "execution": {
     "iopub.execute_input": "2021-12-25T19:55:25.596361Z",
     "iopub.status.busy": "2021-12-25T19:55:25.596107Z",
     "iopub.status.idle": "2021-12-25T19:55:28.883942Z",
     "shell.execute_reply": "2021-12-25T19:55:28.882966Z",
     "shell.execute_reply.started": "2021-12-25T19:55:25.596328Z"
    }
   },
   "outputs": [],
   "source": [
    "# Loading the train and test data for pre-processing\n",
    "train_df = pd.read_csv('./AskReddit Dataset/train.csv')\n",
    "kaggle_test_df = pd.read_csv('./AskReddit Dataset/test.csv')\n",
    "df = pd.concat([train_df,kaggle_test_df])"
   ]
  },
  {
   "cell_type": "markdown",
   "metadata": {},
   "source": [
    "# Feature Extraction"
   ]
  },
  {
   "cell_type": "code",
   "execution_count": 3,
   "metadata": {
    "execution": {
     "iopub.execute_input": "2021-12-25T19:55:28.886219Z",
     "iopub.status.busy": "2021-12-25T19:55:28.885408Z",
     "iopub.status.idle": "2021-12-25T19:55:28.902266Z",
     "shell.execute_reply": "2021-12-25T19:55:28.901419Z",
     "shell.execute_reply.started": "2021-12-25T19:55:28.886175Z"
    }
   },
   "outputs": [
    {
     "data": {
      "text/html": [
       "<div>\n",
       "<style scoped>\n",
       "    .dataframe tbody tr th:only-of-type {\n",
       "        vertical-align: middle;\n",
       "    }\n",
       "\n",
       "    .dataframe tbody tr th {\n",
       "        vertical-align: top;\n",
       "    }\n",
       "\n",
       "    .dataframe thead th {\n",
       "        text-align: right;\n",
       "    }\n",
       "</style>\n",
       "<table border=\"1\" class=\"dataframe\">\n",
       "  <thead>\n",
       "    <tr style=\"text-align: right;\">\n",
       "      <th></th>\n",
       "      <th>qid</th>\n",
       "      <th>question_text</th>\n",
       "      <th>target</th>\n",
       "    </tr>\n",
       "  </thead>\n",
       "  <tbody>\n",
       "    <tr>\n",
       "      <th>0</th>\n",
       "      <td>a3dee568776c08512c89</td>\n",
       "      <td>What is the role of Lua in Civ4?</td>\n",
       "      <td>0.0</td>\n",
       "    </tr>\n",
       "    <tr>\n",
       "      <th>1</th>\n",
       "      <td>bdb84f519e7b46e7b7bb</td>\n",
       "      <td>What are important chapters in Kannada for 10 ...</td>\n",
       "      <td>0.0</td>\n",
       "    </tr>\n",
       "    <tr>\n",
       "      <th>2</th>\n",
       "      <td>29c88db470e2eb5c97ad</td>\n",
       "      <td>Do musicians get royalties from YouTube?</td>\n",
       "      <td>0.0</td>\n",
       "    </tr>\n",
       "    <tr>\n",
       "      <th>3</th>\n",
       "      <td>3387d99bf2c3227ae8f1</td>\n",
       "      <td>What is the difference between Scaling Social ...</td>\n",
       "      <td>0.0</td>\n",
       "    </tr>\n",
       "    <tr>\n",
       "      <th>4</th>\n",
       "      <td>e79fa5038f765d0f2e7e</td>\n",
       "      <td>Why do elevators go super slow right before th...</td>\n",
       "      <td>0.0</td>\n",
       "    </tr>\n",
       "  </tbody>\n",
       "</table>\n",
       "</div>"
      ],
      "text/plain": [
       "                    qid                                      question_text  \\\n",
       "0  a3dee568776c08512c89                   What is the role of Lua in Civ4?   \n",
       "1  bdb84f519e7b46e7b7bb  What are important chapters in Kannada for 10 ...   \n",
       "2  29c88db470e2eb5c97ad           Do musicians get royalties from YouTube?   \n",
       "3  3387d99bf2c3227ae8f1  What is the difference between Scaling Social ...   \n",
       "4  e79fa5038f765d0f2e7e  Why do elevators go super slow right before th...   \n",
       "\n",
       "   target  \n",
       "0     0.0  \n",
       "1     0.0  \n",
       "2     0.0  \n",
       "3     0.0  \n",
       "4     0.0  "
      ]
     },
     "execution_count": 3,
     "metadata": {},
     "output_type": "execute_result"
    }
   ],
   "source": [
    "df.head()"
   ]
  },
  {
   "cell_type": "code",
   "execution_count": 4,
   "metadata": {
    "execution": {
     "iopub.execute_input": "2021-12-25T19:55:28.903907Z",
     "iopub.status.busy": "2021-12-25T19:55:28.903612Z",
     "iopub.status.idle": "2021-12-25T19:55:30.711585Z",
     "shell.execute_reply": "2021-12-25T19:55:30.710742Z",
     "shell.execute_reply.started": "2021-12-25T19:55:28.903815Z"
    }
   },
   "outputs": [],
   "source": [
    "df['word_count'] = df['question_text'].apply(lambda s : len(s.split(' ')))"
   ]
  },
  {
   "cell_type": "code",
   "execution_count": 5,
   "metadata": {
    "execution": {
     "iopub.execute_input": "2021-12-25T19:55:30.714801Z",
     "iopub.status.busy": "2021-12-25T19:55:30.714271Z",
     "iopub.status.idle": "2021-12-25T19:55:32.471934Z",
     "shell.execute_reply": "2021-12-25T19:55:32.471310Z",
     "shell.execute_reply.started": "2021-12-25T19:55:30.714752Z"
    }
   },
   "outputs": [],
   "source": [
    "df['avg_word_length'] = df['question_text'].apply(lambda s : len(s)/len(s.split(' ')))"
   ]
  },
  {
   "cell_type": "code",
   "execution_count": 6,
   "metadata": {
    "execution": {
     "iopub.execute_input": "2021-12-25T19:55:32.473747Z",
     "iopub.status.busy": "2021-12-25T19:55:32.473244Z",
     "iopub.status.idle": "2021-12-25T19:55:32.486583Z",
     "shell.execute_reply": "2021-12-25T19:55:32.485748Z",
     "shell.execute_reply.started": "2021-12-25T19:55:32.473703Z"
    }
   },
   "outputs": [],
   "source": [
    "df.head()"
   ]
  },
  {
   "cell_type": "code",
   "execution_count": 7,
   "metadata": {
    "execution": {
     "iopub.execute_input": "2021-12-25T19:55:32.488868Z",
     "iopub.status.busy": "2021-12-25T19:55:32.487968Z",
     "iopub.status.idle": "2021-12-25T19:55:32.898239Z",
     "shell.execute_reply": "2021-12-25T19:55:32.897336Z",
     "shell.execute_reply.started": "2021-12-25T19:55:32.488812Z"
    }
   },
   "outputs": [],
   "source": [
    "import seaborn as sns\n",
    "fig, ax = plt.subplots(figsize=(5,5))\n",
    "sns.heatmap(df.loc[:,['target','word_count','avg_word_length']].corr(),annot = True,cmap = plt.cm.viridis)\n",
    "plt.show()"
   ]
  },
  {
   "cell_type": "markdown",
   "metadata": {},
   "source": [
    "# Exploratory Data Analysis and pre-processing"
   ]
  },
  {
   "cell_type": "code",
   "execution_count": 8,
   "metadata": {
    "execution": {
     "iopub.execute_input": "2021-12-25T19:55:32.899801Z",
     "iopub.status.busy": "2021-12-25T19:55:32.899553Z",
     "iopub.status.idle": "2021-12-25T19:55:33.521549Z",
     "shell.execute_reply": "2021-12-25T19:55:33.520762Z",
     "shell.execute_reply.started": "2021-12-25T19:55:32.899768Z"
    }
   },
   "outputs": [],
   "source": [
    "# lowercase all the comments\n",
    "df['question_text'] = df['question_text'].apply(lambda s : s.lower())"
   ]
  },
  {
   "cell_type": "code",
   "execution_count": 9,
   "metadata": {
    "execution": {
     "iopub.execute_input": "2021-12-25T19:55:33.522819Z",
     "iopub.status.busy": "2021-12-25T19:55:33.522614Z",
     "iopub.status.idle": "2021-12-25T19:55:33.536918Z",
     "shell.execute_reply": "2021-12-25T19:55:33.535968Z",
     "shell.execute_reply.started": "2021-12-25T19:55:33.522791Z"
    }
   },
   "outputs": [],
   "source": [
    "df.head()"
   ]
  },
  {
   "cell_type": "code",
   "execution_count": 10,
   "metadata": {
    "execution": {
     "iopub.execute_input": "2021-12-25T19:55:33.538350Z",
     "iopub.status.busy": "2021-12-25T19:55:33.538143Z",
     "iopub.status.idle": "2021-12-25T19:55:33.550369Z",
     "shell.execute_reply": "2021-12-25T19:55:33.549620Z",
     "shell.execute_reply.started": "2021-12-25T19:55:33.538322Z"
    }
   },
   "outputs": [],
   "source": [
    "# list of contractions with expanded form taken from wikipedia\n",
    "contractions = {\n",
    "    \"ain't\": 'am not',\n",
    "    \"aren't\": 'are not',\n",
    "    \"'bout\" : 'about',\n",
    "    \"can't\" : 'cannot',\n",
    "    \"cap’n\" : 'captain',\n",
    "    \"'cause\": 'because',\n",
    "    \"’cept\" : 'except',\n",
    "    \"could've\":\"could have\",\n",
    "    \"couldn't\":\"could not\",\n",
    "    \"couldn't've\":\"could not have\",\n",
    "    \"dammit\":\"damn it\",\n",
    "    \"daren't\":\"dare not\",\n",
    "    \"daresn't\":\"dare not\",\n",
    "    \"dasn't\":\"dare not\",\n",
    "    \"didn't\":\"did not\",\n",
    "    \"doesn't\":\"does not\",\n",
    "    \"don't\":\"do not\",\n",
    "    \"dunno\":\"do not know\",\n",
    "    \"d'ye\":\"do you\",\n",
    "    \"e'en\":\"even\",\n",
    "    \"e'er\":\"ever\",\n",
    "    \"'em\":\"them\",\n",
    "    \"everybody's\":\"everybody is\",\n",
    "    \"everyone's\":\"everyone is\",\n",
    "    \"fo’c’sle\":\"forecastle\",\n",
    "    \"’gainst\":\"against\"}\n",
    "# \"g'day (informal)\tgood day\n",
    "# gimme (informal)\tgive me\n",
    "# giv'n (informal)\tgiven\n",
    "# gonna (informal)\tgoing to\n",
    "# gon't (informal)\tgo not (colloquial)\n",
    "# gotta (informal)\tgot to\n",
    "# hadn't\thad not\n",
    "# had've\thad have\n",
    "# hasn't\thas not\n",
    "# haven't\thave not\n",
    "# he'd\the had / he would\n",
    "# he'll\the shall / he will\n",
    "# helluva (informal)\thell of a\n",
    "# he's\the has / he is\n",
    "# here's\there is\n",
    "# how'd (informal)\thow did / how would\n",
    "# howdy (informal)\thow do you do / how do you fare\n",
    "# how'll\thow will\n",
    "# how're\thow are\n",
    "# how's\thow has / how is / how does\n",
    "# I'd\tI had / I would\n",
    "# I'd've\tI would have\n",
    "# I'd'nt\tI would not\n",
    "# I'd'nt've\tI would not have\n",
    "# I'll\tI shall / I will\n",
    "# I'm\tI am\n",
    "# Imma (informal)\tI am about to/I am going to\n",
    "# I'm'o (informal)\tI am going to\n",
    "# innit (informal)\tis it not\n",
    "# Ion (informal)\tI don't / I do not\n",
    "# I've\tI have\n",
    "# isn't\tis not\n",
    "# it'd\tit would\n",
    "# it'll\tit shall / it will\n",
    "# it's\tit has / it is\n",
    "# Idunno (informal)\tI don't know\n",
    "# kinda (informal)\tkind of\n",
    "# let's\tlet us\n",
    "# ma'am (formal)\tmadam\n",
    "# mayn't\tmay not\n",
    "# may've\tmay have\n",
    "# methinks (informal)\tI think\n",
    "# mightn't\tmight not\n",
    "# might've\tmight have\n",
    "# mustn't\tmust not\n",
    "# mustn't've\tmust not have\n",
    "# must've\tmust have\n",
    "# ‘neath (informal)\tbeneath\n",
    "# needn't\tneed not\n",
    "# nal (informal)\tand all\n",
    "# ne'er (informal)\tnever\n",
    "# o'clock\tof the clock\n",
    "# o'er\tover\n",
    "# ol'\told\n",
    "# oughtn't\tought not\n",
    "# ‘round\taround\n",
    "# 's\tis, has, does, or us\n",
    "# shalln't\tshall not (archaic)\n",
    "# shan't\tshall not\n",
    "# she'd\tshe had / she would\n",
    "# she'll\tshe shall / she will\n",
    "# she's\tshe has / she is\n",
    "# should've\tshould have\n",
    "# shouldn't\tshould not\n",
    "# shouldn't've (informal)\tshould not have\n",
    "# somebody's\tsomebody has / somebody is\n",
    "# someone's\tsomeone has / someone is\n",
    "# something's\tsomething has / something is\n",
    "# so're (informal)\tso are (colloquial)\n",
    "# so’s (informal)\tso is / so has\n",
    "# so’ve (informal)\tso have\n",
    "# that'll\tthat shall / that will\n",
    "# that're (informal)\tthat are\n",
    "# that's\tthat has / that is\n",
    "# that'd\tthat would / that had\n",
    "# there'd\tthere had / there would\n",
    "# there'll\tthere shall / there will\n",
    "# there're\tthere are\n",
    "# there's\tthere has / there is\n",
    "# these're\tthese are\n",
    "# these've\tthese have\n",
    "# they'd\tthey had / they would\n",
    "# they'll\tthey shall / they will\n",
    "# they're\tthey are / they were\n",
    "# they've\tthey have\n",
    "# this's\tthis has / this is\n",
    "# those're (informal)\tthose are\n",
    "# those've (informal)\tthose have\n",
    "# 'thout (informal)\twithout\n",
    "# ’til (informal)\tuntil\n",
    "# 'tis (informal)\tit is\n",
    "# to've (informal)\tto have\n",
    "# 'twas (informal)\tit was\n",
    "# 'tween (informal)\tbetween\n",
    "# 'twere (informal)\tit were\n",
    "# wanna\twant to\n",
    "# wasn't\twas not\n",
    "# we'd\twe had / we would/ we did\n",
    "# we'd've\twe would have\n",
    "# we'll\twe shall / we will\n",
    "# we're\twe are\n",
    "# we've\twe have\n",
    "# weren't\twere not\n",
    "# whatcha\twhat are you (whatcha doing?)\n",
    "# what about you (as in asking how someone is today, used as a greeting)\n",
    "\n",
    "# what'd\twhat did\n",
    "# what'll\twhat shall / what will\n",
    "# what're\twhat are/what were\n",
    "# what's\twhat has / what is / what does\n",
    "# what've\twhat have\n",
    "# when's\twhen has / when is\n",
    "# where'd\twhere did\n",
    "# where'll\twhere shall / where will\n",
    "# where're\twhere are\n",
    "# where's\twhere has / where is / where does\n",
    "# where've\twhere have\n",
    "# which'd\twhich had / which would\n",
    "# which'll\twhich shall / which will\n",
    "# which're\twhich are\n",
    "# which's\twhich has / which is\n",
    "# which've\twhich have\n",
    "# who'd\twho would / who had / who did\n",
    "# who'd've\twho would have\n",
    "# who'll\twho shall / who will\n",
    "# who're\twho are\n",
    "# who's\twho has / who is / who does\n",
    "# who've\twho have\n",
    "# why'd\twhy did\n",
    "# why're\twhy are\n",
    "# why's\twhy has / why is / why does\n",
    "# willn't\twill not (archaic)\n",
    "# won't\twill not\n",
    "# wonnot\twill not (archaic)\n",
    "# would've\twould have\n",
    "# wouldn't\twould not\n",
    "# wouldn't've\twould not have\n",
    "# y'all\tyou all (colloquial/Southern American English)\n",
    "# y'all'd've\tyou all would have (colloquial/Southern American English)\n",
    "# y'all'd'n't've\tyou all would not have (colloquial/Southern American English)\n",
    "# y'all're\tyou all are (colloquial/Southern American English)\n",
    "# y'all'ren't\tyou all are not (colloquial/Southern American English)\n",
    "# y'at (informal)\tyou at\n",
    "# yes’m\tyes ma’am / yes madam\n",
    "# yessir\tyes sir\n",
    "# you'd\tyou had / you would\n",
    "# you'll\tyou shall / you will\n",
    "# you're\tyou are\n",
    "# # you've\tyou have\n",
    "# }"
   ]
  },
  {
   "cell_type": "code",
   "execution_count": 11,
   "metadata": {
    "execution": {
     "iopub.execute_input": "2021-12-25T19:55:33.552271Z",
     "iopub.status.busy": "2021-12-25T19:55:33.551681Z",
     "iopub.status.idle": "2021-12-25T19:55:33.565108Z",
     "shell.execute_reply": "2021-12-25T19:55:33.564557Z",
     "shell.execute_reply.started": "2021-12-25T19:55:33.552239Z"
    }
   },
   "outputs": [],
   "source": [
    "# Expanding the contractions to get the actual words\n",
    "def expand_contractions(s):\n",
    "    for key in contractions:\n",
    "        replacement = contractions[key]\n",
    "        s = s.replace(key,replacement)\n",
    "    return s"
   ]
  },
  {
   "cell_type": "code",
   "execution_count": 12,
   "metadata": {
    "execution": {
     "iopub.execute_input": "2021-12-25T19:55:33.566713Z",
     "iopub.status.busy": "2021-12-25T19:55:33.566315Z",
     "iopub.status.idle": "2021-12-25T19:55:44.407315Z",
     "shell.execute_reply": "2021-12-25T19:55:44.406424Z",
     "shell.execute_reply.started": "2021-12-25T19:55:33.566666Z"
    }
   },
   "outputs": [],
   "source": [
    "# Remove punctuation marks and any other numbers or special characters from the sentence\n",
    "df['question_text'] = df['question_text'].apply(lambda x : re.sub('[^a-zA-Z]',' ',x))"
   ]
  },
  {
   "cell_type": "code",
   "execution_count": 13,
   "metadata": {
    "execution": {
     "iopub.execute_input": "2021-12-25T19:55:44.408735Z",
     "iopub.status.busy": "2021-12-25T19:55:44.408465Z",
     "iopub.status.idle": "2021-12-25T19:55:46.726570Z",
     "shell.execute_reply": "2021-12-25T19:55:46.725715Z",
     "shell.execute_reply.started": "2021-12-25T19:55:44.408704Z"
    }
   },
   "outputs": [],
   "source": [
    "# Remove extra spaces\n",
    "df['question_text'] = df['question_text'].apply(lambda x : ' '.join(x.split()))"
   ]
  },
  {
   "cell_type": "code",
   "execution_count": 14,
   "metadata": {
    "execution": {
     "iopub.execute_input": "2021-12-25T19:55:46.730284Z",
     "iopub.status.busy": "2021-12-25T19:55:46.730029Z",
     "iopub.status.idle": "2021-12-25T19:55:46.743176Z",
     "shell.execute_reply": "2021-12-25T19:55:46.742216Z",
     "shell.execute_reply.started": "2021-12-25T19:55:46.730251Z"
    }
   },
   "outputs": [],
   "source": [
    "df.head()"
   ]
  },
  {
   "cell_type": "markdown",
   "metadata": {},
   "source": [
    "## Stop words removal"
   ]
  },
  {
   "cell_type": "code",
   "execution_count": 15,
   "metadata": {
    "execution": {
     "iopub.execute_input": "2021-12-25T19:55:46.745320Z",
     "iopub.status.busy": "2021-12-25T19:55:46.744990Z",
     "iopub.status.idle": "2021-12-25T19:55:47.316713Z",
     "shell.execute_reply": "2021-12-25T19:55:47.315759Z",
     "shell.execute_reply.started": "2021-12-25T19:55:46.745276Z"
    }
   },
   "outputs": [],
   "source": [
    "from nltk.corpus import stopwords\n",
    "stop_words = set(stopwords.words('english'))\n",
    "print(stop_words)"
   ]
  },
  {
   "cell_type": "code",
   "execution_count": 16,
   "metadata": {
    "execution": {
     "iopub.execute_input": "2021-12-25T19:55:47.318521Z",
     "iopub.status.busy": "2021-12-25T19:55:47.318129Z",
     "iopub.status.idle": "2021-12-25T19:55:51.835445Z",
     "shell.execute_reply": "2021-12-25T19:55:51.834470Z",
     "shell.execute_reply.started": "2021-12-25T19:55:47.318470Z"
    }
   },
   "outputs": [],
   "source": [
    "# Remove stop words from text\n",
    "df['question_text'] = df['question_text'].apply(lambda s : ' '.join([ w for w in s.split() if not w in stop_words]))"
   ]
  },
  {
   "cell_type": "code",
   "execution_count": 17,
   "metadata": {
    "execution": {
     "iopub.execute_input": "2021-12-25T19:55:51.837221Z",
     "iopub.status.busy": "2021-12-25T19:55:51.836996Z",
     "iopub.status.idle": "2021-12-25T19:55:51.852416Z",
     "shell.execute_reply": "2021-12-25T19:55:51.851567Z",
     "shell.execute_reply.started": "2021-12-25T19:55:51.837192Z"
    }
   },
   "outputs": [],
   "source": [
    "df.head()"
   ]
  },
  {
   "cell_type": "markdown",
   "metadata": {},
   "source": [
    "## Tokenization of text"
   ]
  },
  {
   "cell_type": "code",
   "execution_count": 18,
   "metadata": {
    "execution": {
     "iopub.execute_input": "2021-12-25T19:55:51.854344Z",
     "iopub.status.busy": "2021-12-25T19:55:51.854108Z",
     "iopub.status.idle": "2021-12-25T19:59:06.452341Z",
     "shell.execute_reply": "2021-12-25T19:59:06.451546Z",
     "shell.execute_reply.started": "2021-12-25T19:55:51.854312Z"
    }
   },
   "outputs": [],
   "source": [
    "from nltk.tokenize import word_tokenize\n",
    "df['tokenized'] = df['question_text'].apply(word_tokenize)"
   ]
  },
  {
   "cell_type": "code",
   "execution_count": 19,
   "metadata": {
    "execution": {
     "iopub.execute_input": "2021-12-25T19:59:06.454224Z",
     "iopub.status.busy": "2021-12-25T19:59:06.453744Z",
     "iopub.status.idle": "2021-12-25T19:59:06.474263Z",
     "shell.execute_reply": "2021-12-25T19:59:06.473683Z",
     "shell.execute_reply.started": "2021-12-25T19:59:06.454176Z"
    }
   },
   "outputs": [],
   "source": [
    "df.head()"
   ]
  },
  {
   "cell_type": "markdown",
   "metadata": {},
   "source": [
    "## Lemmatization of words"
   ]
  },
  {
   "cell_type": "code",
   "execution_count": 20,
   "metadata": {
    "execution": {
     "iopub.execute_input": "2021-12-25T19:59:06.476507Z",
     "iopub.status.busy": "2021-12-25T19:59:06.475637Z",
     "iopub.status.idle": "2021-12-25T19:59:56.859757Z",
     "shell.execute_reply": "2021-12-25T19:59:56.859007Z",
     "shell.execute_reply.started": "2021-12-25T19:59:06.476430Z"
    }
   },
   "outputs": [],
   "source": [
    "from nltk.stem import WordNetLemmatizer\n",
    "lemmatizer = WordNetLemmatizer()\n",
    "\n",
    "# Lemmatization on the tokenized words\n",
    "df['lemmatized'] = df['tokenized'].apply(lambda words : ' '.join([lemmatizer.lemmatize(w) for w in words]))"
   ]
  },
  {
   "cell_type": "code",
   "execution_count": 21,
   "metadata": {
    "execution": {
     "iopub.execute_input": "2021-12-25T19:59:56.861670Z",
     "iopub.status.busy": "2021-12-25T19:59:56.861205Z",
     "iopub.status.idle": "2021-12-25T19:59:56.876861Z",
     "shell.execute_reply": "2021-12-25T19:59:56.876062Z",
     "shell.execute_reply.started": "2021-12-25T19:59:56.861633Z"
    }
   },
   "outputs": [],
   "source": [
    "df.head()"
   ]
  },
  {
   "cell_type": "code",
   "execution_count": 22,
   "metadata": {
    "execution": {
     "iopub.execute_input": "2021-12-25T19:59:56.879059Z",
     "iopub.status.busy": "2021-12-25T19:59:56.878386Z",
     "iopub.status.idle": "2021-12-25T19:59:57.179536Z",
     "shell.execute_reply": "2021-12-25T19:59:57.178237Z",
     "shell.execute_reply.started": "2021-12-25T19:59:56.879025Z"
    }
   },
   "outputs": [],
   "source": [
    "neg_df = df.loc[df['target'] == 1] # dataframe of only troll questions"
   ]
  },
  {
   "cell_type": "code",
   "execution_count": 23,
   "metadata": {
    "execution": {
     "iopub.execute_input": "2021-12-25T19:59:57.181651Z",
     "iopub.status.busy": "2021-12-25T19:59:57.181374Z",
     "iopub.status.idle": "2021-12-25T19:59:57.250281Z",
     "shell.execute_reply": "2021-12-25T19:59:57.249137Z",
     "shell.execute_reply.started": "2021-12-25T19:59:57.181615Z"
    }
   },
   "outputs": [],
   "source": [
    "pos_df = df.loc[df['target']== 0] # dataframe of only non-troll questions"
   ]
  },
  {
   "cell_type": "markdown",
   "metadata": {},
   "source": [
    "## WordCloud"
   ]
  },
  {
   "cell_type": "code",
   "execution_count": 24,
   "metadata": {
    "execution": {
     "iopub.execute_input": "2021-12-25T19:59:57.251776Z",
     "iopub.status.busy": "2021-12-25T19:59:57.251504Z",
     "iopub.status.idle": "2021-12-25T20:00:41.287363Z",
     "shell.execute_reply": "2021-12-25T20:00:41.286262Z",
     "shell.execute_reply.started": "2021-12-25T19:59:57.251742Z"
    }
   },
   "outputs": [],
   "source": [
    "from wordcloud import WordCloud\n",
    "\n",
    "# generating word cloud of troll questions\n",
    "neg_word_cloud = WordCloud().generate(' '.join(neg_df['lemmatized']))\n",
    "\n",
    "# generating word cloud of non-troll questions\n",
    "pos_word_cloud = WordCloud().generate(' '.join(pos_df['lemmatized']))"
   ]
  },
  {
   "cell_type": "code",
   "execution_count": 25,
   "metadata": {
    "execution": {
     "iopub.execute_input": "2021-12-25T20:00:41.289618Z",
     "iopub.status.busy": "2021-12-25T20:00:41.289214Z",
     "iopub.status.idle": "2021-12-25T20:00:41.584781Z",
     "shell.execute_reply": "2021-12-25T20:00:41.583989Z",
     "shell.execute_reply.started": "2021-12-25T20:00:41.289571Z"
    }
   },
   "outputs": [],
   "source": [
    "import matplotlib.pyplot as plt\n",
    "%matplotlib inline\n",
    "\n",
    "plt.imshow(neg_word_cloud)\n",
    "plt.axis('off')\n",
    "plt.show()"
   ]
  },
  {
   "cell_type": "code",
   "execution_count": 26,
   "metadata": {
    "execution": {
     "iopub.execute_input": "2021-12-25T20:00:41.586891Z",
     "iopub.status.busy": "2021-12-25T20:00:41.585853Z",
     "iopub.status.idle": "2021-12-25T20:00:41.871898Z",
     "shell.execute_reply": "2021-12-25T20:00:41.870635Z",
     "shell.execute_reply.started": "2021-12-25T20:00:41.586848Z"
    }
   },
   "outputs": [],
   "source": [
    "plt.imshow(pos_word_cloud)\n",
    "plt.axis('off')\n",
    "plt.show()"
   ]
  },
  {
   "cell_type": "markdown",
   "metadata": {},
   "source": [
    "# Vectorizers"
   ]
  },
  {
   "cell_type": "markdown",
   "metadata": {},
   "source": [
    "## 1. CountVectorizer"
   ]
  },
  {
   "cell_type": "code",
   "execution_count": 27,
   "metadata": {
    "execution": {
     "iopub.execute_input": "2021-12-25T20:00:41.874626Z",
     "iopub.status.busy": "2021-12-25T20:00:41.873459Z",
     "iopub.status.idle": "2021-12-25T20:00:41.879836Z",
     "shell.execute_reply": "2021-12-25T20:00:41.878731Z",
     "shell.execute_reply.started": "2021-12-25T20:00:41.874566Z"
    }
   },
   "outputs": [],
   "source": [
    "from sklearn.feature_extraction.text import CountVectorizer\n",
    "cv = CountVectorizer(max_features = 2000)"
   ]
  },
  {
   "cell_type": "code",
   "execution_count": 28,
   "metadata": {
    "execution": {
     "iopub.execute_input": "2021-12-25T20:00:41.882015Z",
     "iopub.status.busy": "2021-12-25T20:00:41.881616Z",
     "iopub.status.idle": "2021-12-25T20:01:00.320024Z",
     "shell.execute_reply": "2021-12-25T20:01:00.318906Z",
     "shell.execute_reply.started": "2021-12-25T20:00:41.881982Z"
    }
   },
   "outputs": [],
   "source": [
    "X_cv = cv.fit_transform(df['lemmatized'])"
   ]
  },
  {
   "cell_type": "code",
   "execution_count": 29,
   "metadata": {
    "execution": {
     "iopub.execute_input": "2021-12-25T20:01:00.322006Z",
     "iopub.status.busy": "2021-12-25T20:01:00.321764Z",
     "iopub.status.idle": "2021-12-25T20:01:00.348805Z",
     "shell.execute_reply": "2021-12-25T20:01:00.348092Z",
     "shell.execute_reply.started": "2021-12-25T20:01:00.321977Z"
    }
   },
   "outputs": [],
   "source": [
    "cv.get_feature_names()"
   ]
  },
  {
   "cell_type": "markdown",
   "metadata": {},
   "source": [
    "## 2. Tf-Idf Vectorizer"
   ]
  },
  {
   "cell_type": "code",
   "execution_count": 30,
   "metadata": {
    "execution": {
     "iopub.execute_input": "2021-12-25T20:01:00.350589Z",
     "iopub.status.busy": "2021-12-25T20:01:00.349902Z",
     "iopub.status.idle": "2021-12-25T20:01:18.027574Z",
     "shell.execute_reply": "2021-12-25T20:01:18.026526Z",
     "shell.execute_reply.started": "2021-12-25T20:01:00.350539Z"
    }
   },
   "outputs": [],
   "source": [
    "from sklearn.feature_extraction.text import TfidfVectorizer\n",
    "tv = TfidfVectorizer(max_features = 2000)\n",
    "X_tv = tv.fit_transform(list(df['lemmatized']))"
   ]
  },
  {
   "cell_type": "code",
   "execution_count": 31,
   "metadata": {
    "execution": {
     "iopub.execute_input": "2021-12-25T20:01:18.029242Z",
     "iopub.status.busy": "2021-12-25T20:01:18.028876Z",
     "iopub.status.idle": "2021-12-25T20:01:18.058281Z",
     "shell.execute_reply": "2021-12-25T20:01:18.057564Z",
     "shell.execute_reply.started": "2021-12-25T20:01:18.029200Z"
    }
   },
   "outputs": [],
   "source": [
    "tv.get_feature_names()"
   ]
  },
  {
   "cell_type": "markdown",
   "metadata": {},
   "source": [
    "## 3. Word2Vec word embedding"
   ]
  },
  {
   "cell_type": "code",
   "execution_count": 32,
   "metadata": {
    "execution": {
     "iopub.execute_input": "2021-12-25T20:01:18.059951Z",
     "iopub.status.busy": "2021-12-25T20:01:18.059565Z",
     "iopub.status.idle": "2021-12-25T20:01:21.832730Z",
     "shell.execute_reply": "2021-12-25T20:01:21.831924Z",
     "shell.execute_reply.started": "2021-12-25T20:01:18.059908Z"
    }
   },
   "outputs": [],
   "source": [
    "df['lemmatized'] = df['lemmatized'].apply(lambda s : s.split(' '))    # for word2vec we need lists of words"
   ]
  },
  {
   "cell_type": "code",
   "execution_count": 33,
   "metadata": {
    "execution": {
     "iopub.execute_input": "2021-12-25T20:01:21.834344Z",
     "iopub.status.busy": "2021-12-25T20:01:21.833958Z",
     "iopub.status.idle": "2021-12-25T20:01:21.855994Z",
     "shell.execute_reply": "2021-12-25T20:01:21.855035Z",
     "shell.execute_reply.started": "2021-12-25T20:01:21.834311Z"
    }
   },
   "outputs": [],
   "source": [
    "df.head()"
   ]
  },
  {
   "cell_type": "code",
   "execution_count": 34,
   "metadata": {
    "execution": {
     "iopub.execute_input": "2021-12-25T20:01:21.858649Z",
     "iopub.status.busy": "2021-12-25T20:01:21.857578Z",
     "iopub.status.idle": "2021-12-25T20:01:22.165675Z",
     "shell.execute_reply": "2021-12-25T20:01:22.164756Z",
     "shell.execute_reply.started": "2021-12-25T20:01:21.858593Z"
    }
   },
   "outputs": [],
   "source": [
    "from gensim.models import Word2Vec"
   ]
  },
  {
   "cell_type": "code",
   "execution_count": 35,
   "metadata": {
    "execution": {
     "iopub.execute_input": "2021-12-25T20:01:22.167715Z",
     "iopub.status.busy": "2021-12-25T20:01:22.167368Z",
     "iopub.status.idle": "2021-12-25T20:01:22.175698Z",
     "shell.execute_reply": "2021-12-25T20:01:22.174618Z",
     "shell.execute_reply.started": "2021-12-25T20:01:22.167670Z"
    }
   },
   "outputs": [],
   "source": [
    "w2v_model = Word2Vec(min_count=1,window = 2)"
   ]
  },
  {
   "cell_type": "code",
   "execution_count": 36,
   "metadata": {
    "execution": {
     "iopub.execute_input": "2021-12-25T20:01:22.177534Z",
     "iopub.status.busy": "2021-12-25T20:01:22.177078Z",
     "iopub.status.idle": "2021-12-25T20:01:31.562944Z",
     "shell.execute_reply": "2021-12-25T20:01:31.561877Z",
     "shell.execute_reply.started": "2021-12-25T20:01:22.177429Z"
    }
   },
   "outputs": [],
   "source": [
    "w2v_model.build_vocab(list(df['lemmatized']))"
   ]
  },
  {
   "cell_type": "code",
   "execution_count": 37,
   "metadata": {
    "execution": {
     "iopub.execute_input": "2021-12-25T20:01:31.565038Z",
     "iopub.status.busy": "2021-12-25T20:01:31.564445Z",
     "iopub.status.idle": "2021-12-25T20:01:31.571800Z",
     "shell.execute_reply": "2021-12-25T20:01:31.570810Z",
     "shell.execute_reply.started": "2021-12-25T20:01:31.564985Z"
    }
   },
   "outputs": [],
   "source": [
    "w2v_model.epochs"
   ]
  },
  {
   "cell_type": "code",
   "execution_count": 38,
   "metadata": {
    "execution": {
     "iopub.execute_input": "2021-12-25T20:01:31.573504Z",
     "iopub.status.busy": "2021-12-25T20:01:31.573144Z",
     "iopub.status.idle": "2021-12-25T20:02:33.394034Z",
     "shell.execute_reply": "2021-12-25T20:02:33.393168Z",
     "shell.execute_reply.started": "2021-12-25T20:01:31.573440Z"
    }
   },
   "outputs": [],
   "source": [
    "w2v_model.train(list(df['lemmatized']),total_examples = w2v_model.corpus_count,epochs = w2v_model.epochs)"
   ]
  },
  {
   "cell_type": "code",
   "execution_count": 39,
   "metadata": {
    "execution": {
     "iopub.execute_input": "2021-12-25T20:02:33.396655Z",
     "iopub.status.busy": "2021-12-25T20:02:33.395481Z",
     "iopub.status.idle": "2021-12-25T20:02:33.455875Z",
     "shell.execute_reply": "2021-12-25T20:02:33.454908Z",
     "shell.execute_reply.started": "2021-12-25T20:02:33.396604Z"
    }
   },
   "outputs": [],
   "source": [
    "w2v_model.wv.most_similar('trump')"
   ]
  },
  {
   "cell_type": "code",
   "execution_count": 40,
   "metadata": {
    "execution": {
     "iopub.execute_input": "2021-12-25T20:02:33.458181Z",
     "iopub.status.busy": "2021-12-25T20:02:33.457694Z",
     "iopub.status.idle": "2021-12-25T20:02:33.465896Z",
     "shell.execute_reply": "2021-12-25T20:02:33.464886Z",
     "shell.execute_reply.started": "2021-12-25T20:02:33.458130Z"
    }
   },
   "outputs": [],
   "source": [
    "# get the vectors for each question by adding the vectors of the words in it\n",
    "\n",
    "# final_vectors = []\n",
    "\n",
    "def get_sent_vec(model,words):\n",
    "        sent_vec = np.zeros((model.wv.vector_size,))\n",
    "#     print(sent_vec.shape)\n",
    "        for word in words:\n",
    "#         print(word)\n",
    "#         print(w2v_model.wv.get_vector(word).shape)\n",
    "            sent_vec += model.wv.get_vector(word)\n",
    "        return sent_vec\n",
    "#     print(sent_vec)\n",
    "#     final_vectors.append(sent_vec)\n",
    "# final_vectors = np.asarray(final_vectors)\n",
    "# vec = w2v_model.wv.get_vector(vocab[1][0]) + w2v_model.wv.get_vector(vocab[1][1]) + w2v_model.wv.get_vector(vocab[1][2])"
   ]
  },
  {
   "cell_type": "code",
   "execution_count": 41,
   "metadata": {
    "execution": {
     "iopub.execute_input": "2021-12-25T20:02:33.479865Z",
     "iopub.status.busy": "2021-12-25T20:02:33.479212Z",
     "iopub.status.idle": "2021-12-25T20:03:12.112526Z",
     "shell.execute_reply": "2021-12-25T20:03:12.111609Z",
     "shell.execute_reply.started": "2021-12-25T20:02:33.479811Z"
    }
   },
   "outputs": [],
   "source": [
    "df['word2vec_vector'] = df['lemmatized'].apply(lambda x:get_sent_vec(w2v_model,x))"
   ]
  },
  {
   "cell_type": "code",
   "execution_count": 42,
   "metadata": {
    "execution": {
     "iopub.execute_input": "2021-12-25T20:03:12.113971Z",
     "iopub.status.busy": "2021-12-25T20:03:12.113738Z",
     "iopub.status.idle": "2021-12-25T20:03:12.142398Z",
     "shell.execute_reply": "2021-12-25T20:03:12.141555Z",
     "shell.execute_reply.started": "2021-12-25T20:03:12.113940Z"
    }
   },
   "outputs": [],
   "source": [
    "df.head()"
   ]
  },
  {
   "cell_type": "code",
   "execution_count": 43,
   "metadata": {
    "execution": {
     "iopub.execute_input": "2021-12-25T20:03:12.144523Z",
     "iopub.status.busy": "2021-12-25T20:03:12.144002Z",
     "iopub.status.idle": "2021-12-25T20:03:12.318784Z",
     "shell.execute_reply": "2021-12-25T20:03:12.317927Z",
     "shell.execute_reply.started": "2021-12-25T20:03:12.144461Z"
    }
   },
   "outputs": [],
   "source": [
    "print(list(df['word2vec_vector'])[0])"
   ]
  },
  {
   "cell_type": "code",
   "execution_count": 44,
   "metadata": {
    "execution": {
     "iopub.execute_input": "2021-12-25T20:03:12.321300Z",
     "iopub.status.busy": "2021-12-25T20:03:12.320416Z",
     "iopub.status.idle": "2021-12-25T20:04:47.350861Z",
     "shell.execute_reply": "2021-12-25T20:04:47.349859Z",
     "shell.execute_reply.started": "2021-12-25T20:03:12.321248Z"
    }
   },
   "outputs": [],
   "source": [
    "# generate a dataframe with each component of the vector as a column\n",
    "X_w2v = pd.DataFrame(columns = ['vec' + str(i) for i in range(w2v_model.wv.vector_size)],data = list(df['word2vec_vector']))"
   ]
  },
  {
   "cell_type": "code",
   "execution_count": 45,
   "metadata": {
    "execution": {
     "iopub.execute_input": "2021-12-25T20:04:47.352934Z",
     "iopub.status.busy": "2021-12-25T20:04:47.352019Z",
     "iopub.status.idle": "2021-12-25T20:04:47.383950Z",
     "shell.execute_reply": "2021-12-25T20:04:47.382689Z",
     "shell.execute_reply.started": "2021-12-25T20:04:47.352890Z"
    }
   },
   "outputs": [],
   "source": [
    "X_w2v.head()"
   ]
  },
  {
   "cell_type": "markdown",
   "metadata": {},
   "source": [
    "## Separating the train and test data given by kaggle"
   ]
  },
  {
   "cell_type": "code",
   "execution_count": 46,
   "metadata": {
    "execution": {
     "iopub.execute_input": "2021-12-25T20:04:47.386849Z",
     "iopub.status.busy": "2021-12-25T20:04:47.386483Z",
     "iopub.status.idle": "2021-12-25T20:04:47.461600Z",
     "shell.execute_reply": "2021-12-25T20:04:47.460721Z",
     "shell.execute_reply.started": "2021-12-25T20:04:47.386801Z"
    }
   },
   "outputs": [],
   "source": [
    "# The pre-processed kaggle test dataset\n",
    "test_df_cv = X_cv[train_df.shape[0]:]\n",
    "test_df_tv = X_tv[train_df.shape[0]:]\n",
    "test_df_w2v = X_w2v[train_df.shape[0]:]"
   ]
  },
  {
   "cell_type": "code",
   "execution_count": 47,
   "metadata": {
    "execution": {
     "iopub.execute_input": "2021-12-25T20:04:47.463347Z",
     "iopub.status.busy": "2021-12-25T20:04:47.463021Z",
     "iopub.status.idle": "2021-12-25T20:04:47.550693Z",
     "shell.execute_reply": "2021-12-25T20:04:47.549713Z",
     "shell.execute_reply.started": "2021-12-25T20:04:47.463305Z"
    }
   },
   "outputs": [],
   "source": [
    "# The pre-processed kaggle train dataset \n",
    "train_df_cv = X_cv[0:train_df.shape[0]]\n",
    "train_df_tv = X_tv[0:train_df.shape[0]]\n",
    "train_df_w2v = X_w2v[0:train_df.shape[0]]"
   ]
  },
  {
   "cell_type": "code",
   "execution_count": 48,
   "metadata": {
    "execution": {
     "iopub.execute_input": "2021-12-25T20:04:47.552212Z",
     "iopub.status.busy": "2021-12-25T20:04:47.551980Z",
     "iopub.status.idle": "2021-12-25T20:04:47.867513Z",
     "shell.execute_reply": "2021-12-25T20:04:47.866673Z",
     "shell.execute_reply.started": "2021-12-25T20:04:47.552182Z"
    }
   },
   "outputs": [],
   "source": [
    "# target values of the train dataset\n",
    "y = df[df['target'].isna() == False]\n",
    "y = y['target']\n",
    "print(y)"
   ]
  },
  {
   "cell_type": "markdown",
   "metadata": {},
   "source": [
    "# Splitting the dataset"
   ]
  },
  {
   "cell_type": "code",
   "execution_count": 49,
   "metadata": {
    "execution": {
     "iopub.execute_input": "2021-12-25T20:04:47.869109Z",
     "iopub.status.busy": "2021-12-25T20:04:47.868868Z",
     "iopub.status.idle": "2021-12-25T20:04:48.634256Z",
     "shell.execute_reply": "2021-12-25T20:04:48.633362Z",
     "shell.execute_reply.started": "2021-12-25T20:04:47.869077Z"
    }
   },
   "outputs": [],
   "source": [
    "from sklearn.model_selection import train_test_split\n",
    "X_train_cv,X_test_cv,y_train_cv,y_test_cv = train_test_split(train_df_cv,y,train_size=0.80,random_state=45)\n",
    "X_train_tv,X_test_tv,y_train_tv,y_test_tv = train_test_split(train_df_tv,y,train_size=0.80,random_state=45)\n",
    "X_train_w2v,X_test_w2v,y_train_w2v,y_test_w2v = train_test_split(train_df_w2v,y,train_size=0.80,random_state=45)"
   ]
  },
  {
   "cell_type": "markdown",
   "metadata": {},
   "source": [
    "# Oversampling the training dataset"
   ]
  },
  {
   "cell_type": "code",
   "execution_count": 50,
   "metadata": {
    "execution": {
     "iopub.execute_input": "2021-12-25T20:04:48.636058Z",
     "iopub.status.busy": "2021-12-25T20:04:48.635812Z",
     "iopub.status.idle": "2021-12-25T20:04:48.879556Z",
     "shell.execute_reply": "2021-12-25T20:04:48.878859Z",
     "shell.execute_reply.started": "2021-12-25T20:04:48.636026Z"
    }
   },
   "outputs": [],
   "source": [
    "plt.hist(y)"
   ]
  },
  {
   "cell_type": "code",
   "execution_count": 51,
   "metadata": {
    "execution": {
     "iopub.execute_input": "2021-12-25T20:04:48.881432Z",
     "iopub.status.busy": "2021-12-25T20:04:48.880605Z",
     "iopub.status.idle": "2021-12-25T20:04:49.117464Z",
     "shell.execute_reply": "2021-12-25T20:04:49.116536Z",
     "shell.execute_reply.started": "2021-12-25T20:04:48.881378Z"
    }
   },
   "outputs": [],
   "source": [
    "from imblearn.over_sampling import RandomOverSampler\n",
    "ros = RandomOverSampler(random_state=42)"
   ]
  },
  {
   "cell_type": "code",
   "execution_count": 52,
   "metadata": {
    "execution": {
     "iopub.execute_input": "2021-12-25T20:04:49.119558Z",
     "iopub.status.busy": "2021-12-25T20:04:49.119153Z",
     "iopub.status.idle": "2021-12-25T20:04:53.048408Z",
     "shell.execute_reply": "2021-12-25T20:04:53.047550Z",
     "shell.execute_reply.started": "2021-12-25T20:04:49.119507Z"
    }
   },
   "outputs": [],
   "source": [
    "X_ros_cv,y_ros_cv = ros.fit_resample(X_train_cv,y_train_cv)\n",
    "X_ros_tv,y_ros_tv = ros.fit_resample(X_train_tv,y_train_tv)\n",
    "X_ros_w2v,y_ros_w2v = ros.fit_resample(X_train_w2v,y_train_w2v)"
   ]
  },
  {
   "cell_type": "code",
   "execution_count": 53,
   "metadata": {
    "execution": {
     "iopub.execute_input": "2021-12-25T20:04:53.049796Z",
     "iopub.status.busy": "2021-12-25T20:04:53.049564Z",
     "iopub.status.idle": "2021-12-25T20:04:53.073471Z",
     "shell.execute_reply": "2021-12-25T20:04:53.072563Z",
     "shell.execute_reply.started": "2021-12-25T20:04:53.049766Z"
    }
   },
   "outputs": [],
   "source": [
    "print(y_ros_cv.value_counts(),y_train_cv.value_counts())"
   ]
  },
  {
   "cell_type": "markdown",
   "metadata": {},
   "source": [
    "# Training models"
   ]
  },
  {
   "cell_type": "markdown",
   "metadata": {},
   "source": [
    "## 1. Logistic Regression with GridSearchCV"
   ]
  },
  {
   "cell_type": "code",
   "execution_count": null,
   "metadata": {},
   "outputs": [],
   "source": [
    "type(X_ros_cv)"
   ]
  },
  {
   "cell_type": "code",
   "execution_count": null,
   "metadata": {},
   "outputs": [],
   "source": [
    "from sklearn.linear_model import LogisticRegression\n",
    "log_model = LogisticRegression(solver = 'liblinear')"
   ]
  },
  {
   "cell_type": "code",
   "execution_count": null,
   "metadata": {},
   "outputs": [],
   "source": [
    "log_params = [{'solver' : ['liblinear'],'penalty' : ['l2'],'C' : [100, 10, 1.0, 0.1, 0.01,0.001]}]"
   ]
  },
  {
   "cell_type": "code",
   "execution_count": null,
   "metadata": {},
   "outputs": [],
   "source": [
    "gscv = GridSearchCV(estimator = log_model,param_grid = log_params,cv = 5,scoring = 'f1')"
   ]
  },
  {
   "cell_type": "markdown",
   "metadata": {},
   "source": [
    "### 1.1 On vectors generated using CountVectorizer"
   ]
  },
  {
   "cell_type": "code",
   "execution_count": null,
   "metadata": {},
   "outputs": [],
   "source": [
    "gscv.fit(X_ros_cv,y_ros_cv)"
   ]
  },
  {
   "cell_type": "code",
   "execution_count": null,
   "metadata": {},
   "outputs": [],
   "source": [
    "print('Best params:', gscv.best_params_)\n",
    "print('Best f1 score on train data:',gscv.best_score_)\n",
    "print('f1 score on test data:',gscv.score(X_test_cv,y_test_cv))"
   ]
  },
  {
   "cell_type": "markdown",
   "metadata": {},
   "source": [
    "### 1.2 On vectors generated using Tf-IdfVectorizer"
   ]
  },
  {
   "cell_type": "code",
   "execution_count": null,
   "metadata": {},
   "outputs": [],
   "source": [
    "gscv.fit(X_ros_tv,y_ros_tv)"
   ]
  },
  {
   "cell_type": "code",
   "execution_count": null,
   "metadata": {},
   "outputs": [],
   "source": [
    "print('Best params:', gscv.best_params_)\n",
    "print('Best f1 score:',gscv.best_score_)\n",
    "print('f1 score on test data:',gscv.score(X_test_tv,y_test_tv))"
   ]
  },
  {
   "cell_type": "markdown",
   "metadata": {},
   "source": [
    "### 1.3 On vectors generated using Word2Vec word embedding"
   ]
  },
  {
   "cell_type": "code",
   "execution_count": null,
   "metadata": {},
   "outputs": [],
   "source": [
    "gscv.fit(X_ros_w2v,y_ros_w2v)"
   ]
  },
  {
   "cell_type": "code",
   "execution_count": null,
   "metadata": {},
   "outputs": [],
   "source": [
    "print('Best params:', gscv.best_params_)\n",
    "print('Best f1 score:',gscv.best_score_)\n",
    "print('f1 score on test data:',gscv.score(X_test_w2v,y_test_w2v))"
   ]
  },
  {
   "cell_type": "markdown",
   "metadata": {},
   "source": [
    "## 2. Decision Tree Classifier with GridSearchCV"
   ]
  },
  {
   "cell_type": "code",
   "execution_count": null,
   "metadata": {},
   "outputs": [],
   "source": [
    "from sklearn.tree import DecisionTreeClassifier\n",
    "dt_model = DecisionTreeClassifier()"
   ]
  },
  {
   "cell_type": "code",
   "execution_count": null,
   "metadata": {},
   "outputs": [],
   "source": [
    "dt_params = [{'max_depth' : [10,20,50,100],'min_impurity_decrease' : [0.1,0.2,0.3]}]"
   ]
  },
  {
   "cell_type": "code",
   "execution_count": null,
   "metadata": {},
   "outputs": [],
   "source": [
    "gscv = GridSearchCV(estimator = dt_model,param_grid = dt_params,cv = 5,scoring = 'f1')"
   ]
  },
  {
   "cell_type": "markdown",
   "metadata": {},
   "source": [
    "### 2.1  On vectors generated using CountVectorizer"
   ]
  },
  {
   "cell_type": "code",
   "execution_count": null,
   "metadata": {},
   "outputs": [],
   "source": [
    "gscv.fit(X_ros_cv,y_ros_cv)"
   ]
  },
  {
   "cell_type": "code",
   "execution_count": null,
   "metadata": {},
   "outputs": [],
   "source": [
    "print('Best params:', gscv.best_params_)\n",
    "print('Best f1 score:',gscv.best_score_)\n",
    "print('f1 score on test data:',gscv.score(X_test_cv,y_test_cv))"
   ]
  },
  {
   "cell_type": "markdown",
   "metadata": {},
   "source": [
    "### 2.2 On vectors generated using Tf-IdfVectorizer"
   ]
  },
  {
   "cell_type": "code",
   "execution_count": null,
   "metadata": {},
   "outputs": [],
   "source": [
    "gscv.fit(X_ros_tv,y_ros_tv)"
   ]
  },
  {
   "cell_type": "code",
   "execution_count": null,
   "metadata": {},
   "outputs": [],
   "source": [
    "print('Best params:', gscv.best_params_)\n",
    "print('Best f1 score:',gscv.best_score_)\n",
    "print('f1 score on test data:',gscv.score(X_test_tv,y_test_tv))"
   ]
  },
  {
   "cell_type": "markdown",
   "metadata": {},
   "source": [
    "### 2.3 On vectors generated using Word2Vec word embedding"
   ]
  },
  {
   "cell_type": "code",
   "execution_count": null,
   "metadata": {},
   "outputs": [],
   "source": [
    "gscv.fit(X_ros_w2v,y_ros_w2v)"
   ]
  },
  {
   "cell_type": "code",
   "execution_count": null,
   "metadata": {},
   "outputs": [],
   "source": [
    "print('Best params:', gscv.best_params_)\n",
    "print('Best f1 score:',gscv.best_score_)\n",
    "print('f1 score on test data:',gscv.score(X_test_w2v,y_test_w2v))"
   ]
  },
  {
   "cell_type": "markdown",
   "metadata": {},
   "source": [
    "## Random Forest Classifier with GridSearchCV"
   ]
  },
  {
   "cell_type": "code",
   "execution_count": 54,
   "metadata": {
    "execution": {
     "iopub.execute_input": "2021-12-25T20:04:53.075483Z",
     "iopub.status.busy": "2021-12-25T20:04:53.074898Z",
     "iopub.status.idle": "2021-12-25T20:04:53.085320Z",
     "shell.execute_reply": "2021-12-25T20:04:53.084456Z",
     "shell.execute_reply.started": "2021-12-25T20:04:53.075433Z"
    }
   },
   "outputs": [],
   "source": [
    "from sklearn.ensemble import RandomForestClassifier\n",
    "rf_model = RandomForestClassifier()"
   ]
  },
  {
   "cell_type": "code",
   "execution_count": 55,
   "metadata": {
    "execution": {
     "iopub.execute_input": "2021-12-25T20:04:53.086724Z",
     "iopub.status.busy": "2021-12-25T20:04:53.086468Z",
     "iopub.status.idle": "2021-12-25T20:04:53.097141Z",
     "shell.execute_reply": "2021-12-25T20:04:53.096194Z",
     "shell.execute_reply.started": "2021-12-25T20:04:53.086694Z"
    }
   },
   "outputs": [],
   "source": [
    "rf_params = [{'n_estimators':[10,20],'criterion':['gini','entropy'],'max_depth' : [10,20,50],'min_impurity_decrease' : [0.1,0.2]}]"
   ]
  },
  {
   "cell_type": "code",
   "execution_count": 56,
   "metadata": {
    "execution": {
     "iopub.execute_input": "2021-12-25T20:04:53.098566Z",
     "iopub.status.busy": "2021-12-25T20:04:53.098305Z",
     "iopub.status.idle": "2021-12-25T20:04:53.110145Z",
     "shell.execute_reply": "2021-12-25T20:04:53.109433Z",
     "shell.execute_reply.started": "2021-12-25T20:04:53.098533Z"
    }
   },
   "outputs": [],
   "source": [
    "gscv = GridSearchCV(estimator = rf_model,param_grid = rf_params,cv = 5,scoring = 'f1')"
   ]
  },
  {
   "cell_type": "markdown",
   "metadata": {},
   "source": [
    "### 3.1  On vectors generated using CountVectorizer"
   ]
  },
  {
   "cell_type": "code",
   "execution_count": 57,
   "metadata": {
    "execution": {
     "iopub.execute_input": "2021-12-25T20:04:53.111964Z",
     "iopub.status.busy": "2021-12-25T20:04:53.111511Z",
     "iopub.status.idle": "2021-12-25T20:08:42.567927Z",
     "shell.execute_reply": "2021-12-25T20:08:42.567060Z",
     "shell.execute_reply.started": "2021-12-25T20:04:53.111913Z"
    }
   },
   "outputs": [],
   "source": [
    "gscv.fit(X_ros_cv,y_ros_cv)"
   ]
  },
  {
   "cell_type": "code",
   "execution_count": 58,
   "metadata": {
    "execution": {
     "iopub.execute_input": "2021-12-25T20:08:42.569529Z",
     "iopub.status.busy": "2021-12-25T20:08:42.569262Z",
     "iopub.status.idle": "2021-12-25T20:08:42.787045Z",
     "shell.execute_reply": "2021-12-25T20:08:42.786166Z",
     "shell.execute_reply.started": "2021-12-25T20:08:42.569497Z"
    }
   },
   "outputs": [],
   "source": [
    "print('Best params:', gscv.best_params_)\n",
    "print('Best f1 score:',gscv.best_score_)\n",
    "print('f1 score on test data:',gscv.score(X_test_cv,y_test_cv))"
   ]
  },
  {
   "cell_type": "markdown",
   "metadata": {},
   "source": [
    "### 2.2 On vectors generated using Tf-IdfVectorizer"
   ]
  },
  {
   "cell_type": "code",
   "execution_count": null,
   "metadata": {},
   "outputs": [],
   "source": [
    "gscv.fit(X_ros_tv,y_ros_tv)"
   ]
  },
  {
   "cell_type": "code",
   "execution_count": null,
   "metadata": {},
   "outputs": [],
   "source": [
    "print('Best params:', gscv.best_params_)\n",
    "print('Best f1 score:',gscv.best_score_)\n",
    "print('f1 score on test data:',gscv.score(X_test_tv,y_test_tv))"
   ]
  },
  {
   "cell_type": "markdown",
   "metadata": {},
   "source": [
    "### 2.3 On vectors generated using Word2Vec word embedding"
   ]
  },
  {
   "cell_type": "code",
   "execution_count": null,
   "metadata": {},
   "outputs": [],
   "source": [
    "gscv.fit(X_ros_w2v,y_ros_w2v)"
   ]
  },
  {
   "cell_type": "code",
   "execution_count": null,
   "metadata": {},
   "outputs": [],
   "source": [
    "print('Best params:', gscv.best_params_)\n",
    "print('Best f1 score:',gscv.best_score_)\n",
    "print('f1 score on test data:',gscv.score(X_test_w2v,y_test_w2v))"
   ]
  },
  {
   "cell_type": "markdown",
   "metadata": {},
   "source": [
    "## 4. Gaussian Naive Bayes"
   ]
  },
  {
   "cell_type": "markdown",
   "metadata": {},
   "source": [
    "### On Vectors with Word2Vec word embedding"
   ]
  },
  {
   "cell_type": "code",
   "execution_count": null,
   "metadata": {},
   "outputs": [],
   "source": [
    "from sklearn.naive_bayes import GaussianNB\n",
    "gnb_model = GaussianNB()\n",
    "gnb_model = gnb_model.fit(X_ros_w2v, y_ros_w2v)"
   ]
  },
  {
   "cell_type": "code",
   "execution_count": null,
   "metadata": {},
   "outputs": [],
   "source": [
    "y_pred = gnb_model.predict(X_test_w2v)"
   ]
  },
  {
   "cell_type": "code",
   "execution_count": null,
   "metadata": {},
   "outputs": [],
   "source": [
    "print(classification_report(y_test_w2v, y_pred))"
   ]
  },
  {
   "cell_type": "markdown",
   "metadata": {},
   "source": [
    "## Gradient Boost Classifier"
   ]
  },
  {
   "cell_type": "code",
   "execution_count": null,
   "metadata": {},
   "outputs": [],
   "source": [
    "from sklearn.ensemble import GradientBoostingClassifier\n",
    "\n",
    "N_ESTIMATORS = 500\n",
    "LEARNING_RATE = 0.5\n",
    "MAX_DEPTH = 7\n",
    "RANDOM_STATE = 1"
   ]
  },
  {
   "cell_type": "code",
   "execution_count": null,
   "metadata": {},
   "outputs": [],
   "source": [
    "clf = GradientBoostingClassifier(n_estimators=N_ESTIMATORS, learning_rate=LEARNING_RATE, max_depth=MAX_DEPTH, random_state=RANDOM_STATE)\n",
    "clf = clf.fit(X_ros_w2v,y_ros_w2v)"
   ]
  },
  {
   "cell_type": "code",
   "execution_count": null,
   "metadata": {},
   "outputs": [],
   "source": [
    "y_pred = clf.predict(X_test_w2v)\n",
    "y_pred"
   ]
  },
  {
   "cell_type": "code",
   "execution_count": null,
   "metadata": {},
   "outputs": [],
   "source": [
    "from sklearn.metrics import classification_report\n",
    "print(classification_report(y_test_w2v, y_pred))"
   ]
  },
  {
   "cell_type": "markdown",
   "metadata": {},
   "source": [
    "## XGBoost"
   ]
  },
  {
   "cell_type": "code",
   "execution_count": null,
   "metadata": {},
   "outputs": [],
   "source": [
    "import xgboost as xgb\n",
    "xgb_model = xgb.XGBClassifier(random_state=100)\n",
    "xgb_model.fit(X_ros_w2v, y_ros_w2v)"
   ]
  },
  {
   "cell_type": "code",
   "execution_count": null,
   "metadata": {},
   "outputs": [],
   "source": [
    "y_pred = xgb_model.predict(X_test_w2v)\n",
    "y_pred"
   ]
  },
  {
   "cell_type": "code",
   "execution_count": null,
   "metadata": {},
   "outputs": [],
   "source": [
    "from sklearn.metrics import classification_report\n",
    "print(classification_report(y_test_w2v, y_pred))"
   ]
  },
  {
   "cell_type": "markdown",
   "metadata": {},
   "source": [
    "## Support Vector Classifier with recursive feature elimination and cross validation"
   ]
  },
  {
   "cell_type": "code",
   "execution_count": 68,
   "metadata": {
    "execution": {
     "iopub.execute_input": "2021-12-25T20:25:53.001610Z",
     "iopub.status.busy": "2021-12-25T20:25:53.001308Z",
     "iopub.status.idle": "2021-12-25T20:25:53.021070Z",
     "shell.execute_reply": "2021-12-25T20:25:53.020194Z",
     "shell.execute_reply.started": "2021-12-25T20:25:53.001580Z"
    }
   },
   "outputs": [],
   "source": [
    "from sklearn.svm import SVC\n",
    "from sklearn.model_selection import StratifiedKFold\n",
    "from sklearn.feature_selection import RFECV"
   ]
  },
  {
   "cell_type": "code",
   "execution_count": null,
   "metadata": {
    "execution": {
     "iopub.execute_input": "2021-12-25T20:25:54.242944Z",
     "iopub.status.busy": "2021-12-25T20:25:54.242369Z"
    }
   },
   "outputs": [],
   "source": [
    "svc = SVC(kernel=\"linear\")\n",
    "min_features_to_select = 1  # Minimum number of features to consider\n",
    "\n",
    "\n",
    "rfecv = RFECV(\n",
    "    estimator=svc,\n",
    "    step=1,\n",
    "    cv=StratifiedKFold(2),\n",
    "    scoring=\"accuracy\",\n",
    "    min_features_to_select=min_features_to_select,\n",
    ")\n",
    "rfecv = rfecv.fit(X_ros_w2v, y_ros_w2v)"
   ]
  },
  {
   "cell_type": "code",
   "execution_count": null,
   "metadata": {},
   "outputs": [],
   "source": [
    "y_pred = rfecv.predict(X_test_w2v)\n",
    "y_pred"
   ]
  },
  {
   "cell_type": "code",
   "execution_count": null,
   "metadata": {},
   "outputs": [],
   "source": [
    "from sklearn.metrics import classification_report\n",
    "print(classification_report(y_test_w2v, y_pred))"
   ]
  },
  {
   "cell_type": "markdown",
   "metadata": {},
   "source": [
    "# Perceptron"
   ]
  },
  {
   "cell_type": "code",
   "execution_count": 63,
   "metadata": {
    "execution": {
     "iopub.execute_input": "2021-12-25T20:14:49.398784Z",
     "iopub.status.busy": "2021-12-25T20:14:49.398330Z",
     "iopub.status.idle": "2021-12-25T20:14:53.460631Z",
     "shell.execute_reply": "2021-12-25T20:14:53.459694Z",
     "shell.execute_reply.started": "2021-12-25T20:14:49.398751Z"
    }
   },
   "outputs": [],
   "source": [
    "from sklearn.linear_model import Perceptron\n",
    "clf = Perceptron(tol=1e-3, random_state=0)\n",
    "clf = clf.fit(X_ros_w2v, y_ros_w2v)"
   ]
  },
  {
   "cell_type": "code",
   "execution_count": 64,
   "metadata": {
    "execution": {
     "iopub.execute_input": "2021-12-25T20:14:53.462704Z",
     "iopub.status.busy": "2021-12-25T20:14:53.462335Z",
     "iopub.status.idle": "2021-12-25T20:14:53.500528Z",
     "shell.execute_reply": "2021-12-25T20:14:53.499656Z",
     "shell.execute_reply.started": "2021-12-25T20:14:53.462667Z"
    }
   },
   "outputs": [],
   "source": [
    "y_pred = clf.predict(X_test_w2v)\n",
    "y_pred"
   ]
  },
  {
   "cell_type": "code",
   "execution_count": 65,
   "metadata": {
    "execution": {
     "iopub.execute_input": "2021-12-25T20:14:53.502802Z",
     "iopub.status.busy": "2021-12-25T20:14:53.502058Z",
     "iopub.status.idle": "2021-12-25T20:14:53.852618Z",
     "shell.execute_reply": "2021-12-25T20:14:53.852013Z",
     "shell.execute_reply.started": "2021-12-25T20:14:53.502751Z"
    }
   },
   "outputs": [],
   "source": [
    "from sklearn.metrics import classification_report\n",
    "print(classification_report(y_test_w2v, y_pred))"
   ]
  },
  {
   "cell_type": "markdown",
   "metadata": {},
   "source": [
    "## Ridge Classifier"
   ]
  },
  {
   "cell_type": "code",
   "execution_count": 59,
   "metadata": {
    "execution": {
     "iopub.execute_input": "2021-12-25T20:12:42.065166Z",
     "iopub.status.busy": "2021-12-25T20:12:42.064808Z",
     "iopub.status.idle": "2021-12-25T20:12:42.069899Z",
     "shell.execute_reply": "2021-12-25T20:12:42.069048Z",
     "shell.execute_reply.started": "2021-12-25T20:12:42.065134Z"
    }
   },
   "outputs": [],
   "source": [
    "from sklearn.linear_model import RidgeClassifier"
   ]
  },
  {
   "cell_type": "code",
   "execution_count": 60,
   "metadata": {
    "execution": {
     "iopub.execute_input": "2021-12-25T20:12:43.394805Z",
     "iopub.status.busy": "2021-12-25T20:12:43.394178Z",
     "iopub.status.idle": "2021-12-25T20:12:48.871379Z",
     "shell.execute_reply": "2021-12-25T20:12:48.870447Z",
     "shell.execute_reply.started": "2021-12-25T20:12:43.394765Z"
    }
   },
   "outputs": [],
   "source": [
    "ridge_clf = RidgeClassifier()\n",
    "ridge_clf.fit(X_ros_w2v,y_ros_w2v)"
   ]
  },
  {
   "cell_type": "code",
   "execution_count": 61,
   "metadata": {
    "execution": {
     "iopub.execute_input": "2021-12-25T20:12:48.874547Z",
     "iopub.status.busy": "2021-12-25T20:12:48.873319Z",
     "iopub.status.idle": "2021-12-25T20:12:48.977725Z",
     "shell.execute_reply": "2021-12-25T20:12:48.976478Z",
     "shell.execute_reply.started": "2021-12-25T20:12:48.874468Z"
    }
   },
   "outputs": [],
   "source": [
    "y_pred = ridge_clf.predict(X_test_w2v)"
   ]
  },
  {
   "cell_type": "code",
   "execution_count": 62,
   "metadata": {
    "execution": {
     "iopub.execute_input": "2021-12-25T20:12:49.167593Z",
     "iopub.status.busy": "2021-12-25T20:12:49.167306Z",
     "iopub.status.idle": "2021-12-25T20:12:49.477375Z",
     "shell.execute_reply": "2021-12-25T20:12:49.476329Z",
     "shell.execute_reply.started": "2021-12-25T20:12:49.167562Z"
    }
   },
   "outputs": [],
   "source": [
    "print(y_pred)\n",
    "from sklearn.metrics import classification_report\n",
    "print(classification_report(y_test_w2v, y_pred))"
   ]
  },
  {
   "cell_type": "markdown",
   "metadata": {},
   "source": [
    "## Adaboost"
   ]
  },
  {
   "cell_type": "code",
   "execution_count": 66,
   "metadata": {
    "execution": {
     "iopub.execute_input": "2021-12-25T20:18:49.042739Z",
     "iopub.status.busy": "2021-12-25T20:18:49.042449Z",
     "iopub.status.idle": "2021-12-25T20:22:15.526342Z",
     "shell.execute_reply": "2021-12-25T20:22:15.525660Z",
     "shell.execute_reply.started": "2021-12-25T20:18:49.042709Z"
    }
   },
   "outputs": [],
   "source": [
    "from sklearn.ensemble import AdaBoostClassifier\n",
    "clf = AdaBoostClassifier(n_estimators=10,learning_rate=0.1,random_state=0)\n",
    "clf = clf.fit(X_ros_w2v,y_ros_w2v)\n",
    "y_pred = clf.predict(X_test_w2v)"
   ]
  },
  {
   "cell_type": "code",
   "execution_count": 67,
   "metadata": {
    "execution": {
     "iopub.execute_input": "2021-12-25T20:22:15.528397Z",
     "iopub.status.busy": "2021-12-25T20:22:15.528012Z",
     "iopub.status.idle": "2021-12-25T20:22:15.847716Z",
     "shell.execute_reply": "2021-12-25T20:22:15.846575Z",
     "shell.execute_reply.started": "2021-12-25T20:22:15.528347Z"
    }
   },
   "outputs": [],
   "source": [
    "print(y_pred)\n",
    "print(classification_report(y_test_w2v, y_pred))"
   ]
  },
  {
   "cell_type": "code",
   "execution_count": null,
   "metadata": {},
   "outputs": [],
   "source": []
  },
  {
   "cell_type": "code",
   "execution_count": null,
   "metadata": {},
   "outputs": [],
   "source": []
  }
 ],
 "metadata": {
  "kernelspec": {
   "display_name": "Python 3 (ipykernel)",
   "language": "python",
   "name": "python3"
  },
  "language_info": {
   "codemirror_mode": {
    "name": "ipython",
    "version": 3
   },
   "file_extension": ".py",
   "mimetype": "text/x-python",
   "name": "python",
   "nbconvert_exporter": "python",
   "pygments_lexer": "ipython3",
   "version": "3.9.1"
  }
 },
 "nbformat": 4,
 "nbformat_minor": 4
}
